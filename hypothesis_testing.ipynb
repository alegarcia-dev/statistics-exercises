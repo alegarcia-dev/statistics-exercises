{
 "cells": [
  {
   "cell_type": "markdown",
   "id": "c7f26d50-52dd-49b0-a82c-a17e9bcca401",
   "metadata": {},
   "source": [
    "# -"
   ]
  },
  {
   "cell_type": "code",
   "execution_count": 1,
   "id": "20bb9825-a11e-48d0-a0db-097d7277890e",
   "metadata": {},
   "outputs": [],
   "source": [
    "import pandas as pd\n",
    "import numpy as np\n",
    "import matplotlib.pyplot as plt\n",
    "import seaborn as sns\n",
    "from scipy import stats\n",
    "\n",
    "from pydataset import data"
   ]
  },
  {
   "cell_type": "code",
   "execution_count": 2,
   "id": "785d016c-9cbe-4b70-847f-86e78d4de5dd",
   "metadata": {},
   "outputs": [],
   "source": [
    "# Helper Functions\n",
    "\n",
    "def test_1tail_larger(t, p):\n",
    "    if (p / 2) < alpha and t > 0:\n",
    "        print('The null hypothesis is rejected')\n",
    "    else:\n",
    "        print('Failed to reject null hypothesis')\n",
    "        \n",
    "def test_1tail_smaller(t, p):\n",
    "    if (p / 2) < alpha and t < 0:\n",
    "        print('The null hypothesis is rejected')\n",
    "    else:\n",
    "        print('Failed to reject null hypothesis')\n",
    "        \n",
    "def test_2tail(p):\n",
    "    if p < alpha:\n",
    "        print('The null hypothesis is rejected')\n",
    "    else:\n",
    "        print('Failed to reject null hypothesis')"
   ]
  },
  {
   "cell_type": "markdown",
   "id": "983b1fe5-c1db-4a24-88ba-268ab1cbdff1",
   "metadata": {},
   "source": [
    "# Overview Exercises\n",
    "\n",
    "For each of the following questions, formulate a null and alternative hypothesis (be as specific as you can be), then give an example of what a true positive, true negative, type I and type II errors would look like."
   ]
  },
  {
   "cell_type": "markdown",
   "id": "06695dc7-797c-457f-819b-c33949d26cac",
   "metadata": {
    "tags": []
   },
   "source": [
    "---\n",
    "\n",
    "### Has the network latency gone up since we switched internet service providers?"
   ]
  },
  {
   "cell_type": "markdown",
   "id": "0bfaa31b-13cb-4ca5-b730-6c519fd03069",
   "metadata": {},
   "source": [
    "Null Hypothesis: There is no difference in network latency between internet service provider A and internet service provider B.\n",
    "\n",
    "Alternative Hypothesis: On average the network latency for internet service provider B is greater than that of internet service provider A.\n",
    "\n",
    "True Positive: Testing determines that there is a difference in network latency between ISP A and ISP B which agrees with reality.\n",
    "\n",
    "True Negative: Testing determines that there is no difference in network latency between ISP A and ISP B which agrees with reality.\n",
    "\n",
    "Type I Error: Testing determines that there is a difference in network latency between ISP A and ISP B, but in reality there is no difference.\n",
    "\n",
    "Type II Error: Testing determines that there is no difference in network latency between ISP A and ISP B, but in reality there is a difference."
   ]
  },
  {
   "cell_type": "markdown",
   "id": "724547e2-5385-470b-8080-3df25d1255c9",
   "metadata": {},
   "source": [
    "---\n",
    "\n",
    "### Is the website redesign any good?"
   ]
  },
  {
   "cell_type": "markdown",
   "id": "eda0e6ee-c2c5-416a-beb7-dd726b238fc6",
   "metadata": {},
   "source": [
    "Null Hypothesis: The website redesign does not resolve the issue raised about the old design.\n",
    "\n",
    "Alternative Hypothesis: The website redesign resolves the issue raised about the old design.\n",
    "\n",
    "True Positive: Testing determines that the redesign does resolve the issue raised about the old design which agrees with reality.\n",
    "\n",
    "True Negative: Testing determines that the resdesign does not resolve the issue raised about the old design which agrees with reality.\n",
    "\n",
    "Type I Error: Testing determines that the redesign does resolve the issue raised about the old design, but in reality it does not.\n",
    "\n",
    "Type II Error: Testing determines that the resdesign does not resolve the issue raised about the old design, but in reality it does."
   ]
  },
  {
   "cell_type": "markdown",
   "id": "e36f560c-ea38-493e-ae47-fdb8b3b2224d",
   "metadata": {},
   "source": [
    "---\n",
    "### Is our television ad driving more sales?"
   ]
  },
  {
   "cell_type": "markdown",
   "id": "cb34b263-dabc-43b6-84c7-4c4859209cde",
   "metadata": {},
   "source": [
    "Null Hypothesis: Our television ad is not driving more sales.\n",
    "\n",
    "Alternative Hypothesis: Our television ad is driving more sales.\n",
    "\n",
    "True Positive: Testing determines that our television ad is driving more sales which agrees with reality.\n",
    "\n",
    "True Negative: Testing determines that our television ad is not driving more sales which agrees with reality.\n",
    "\n",
    "Type I Error: Testing determines that our television ad is driving more sales, but in reality it is not.\n",
    "\n",
    "Type II Error: Testing determines that our television ad is not driving more sales, but in reality it is."
   ]
  },
  {
   "cell_type": "markdown",
   "id": "dce7f822-05d3-408d-9f07-aebbbc4a819b",
   "metadata": {},
   "source": [
    "# T-Test Exercises"
   ]
  },
  {
   "cell_type": "markdown",
   "id": "6c038636-c2b3-468d-b296-5cb30932af50",
   "metadata": {},
   "source": [
    "### Ace Realty\n",
    "\n",
    "Ace Realty wants to determine whether the average time it takes to sell homes is different for its two offices. A sample of 40 sales from office #1 revealed a mean of 90 days and a standard deviation of 15 days. A sample of 50 sales from office #2 revealed a mean of 100 days and a standard deviation of 20 days. Use a .05 level of significance."
   ]
  },
  {
   "cell_type": "markdown",
   "id": "aad0864d-b0dd-4233-90b3-8b687f84cb5e",
   "metadata": {},
   "source": [
    "We are comparing two samples so we will use a two sample t-test for comparison.\n",
    "\n",
    "**Assumptions**\n",
    "\n",
    "- Normal Distribution, or at least 30 observations and \"kinda\" normal. The more observations you have, the less \"normal\" it needs to appear. (CLT)\n",
    "- Independent samples\n",
    "- Equal Variances (or set method argument to False when not"
   ]
  },
  {
   "cell_type": "code",
   "execution_count": 33,
   "id": "b1041d1d-7356-4344-9ce0-3301cc96a928",
   "metadata": {},
   "outputs": [],
   "source": [
    "# Each sample has more than 30 observations so presume normal distributions\n",
    "\n",
    "sample1_mean = 90\n",
    "sample1_stddev = 15\n",
    "sample1_size = 40\n",
    "\n",
    "sample2_mean = 100\n",
    "sample2_stddev = 20\n",
    "sample2_size = 50"
   ]
  },
  {
   "cell_type": "code",
   "execution_count": 35,
   "id": "3664e8a9-16a7-4a76-bee7-7792cd0eda42",
   "metadata": {},
   "outputs": [
    {
     "data": {
      "text/plain": [
       "(225, 400)"
      ]
     },
     "execution_count": 35,
     "metadata": {},
     "output_type": "execute_result"
    }
   ],
   "source": [
    "# The variances are not equal so we will set the equal_var argument to False, the samples are independent.\n",
    "sample1_stddev ** 2, sample2_stddev ** 2"
   ]
  },
  {
   "cell_type": "code",
   "execution_count": 31,
   "id": "bbd63ef1-edab-4670-a997-c5a544b070d3",
   "metadata": {
    "tags": []
   },
   "outputs": [],
   "source": [
    "# Since we don't have the datasets we use the ttest_ind_from_stats function\n",
    "\n",
    "t, p = stats.ttest_ind_from_stats(\n",
    "    sample1_mean, \n",
    "    sample1_stddev, \n",
    "    sample1_size, \n",
    "    sample2_mean, \n",
    "    sample2_stddev, \n",
    "    sample2_size, \n",
    "    equal_var = False\n",
    ")"
   ]
  },
  {
   "cell_type": "markdown",
   "id": "b211da5a-8584-4d32-9647-22b63e764c38",
   "metadata": {},
   "source": [
    "H0: The average time to sell homes at office #1 equals the average time to sell homes at office #2.\n",
    "<br>\n",
    "Ha: The average time to sell homes at office #1 is significantly larger than the average time to sell homes at office #2."
   ]
  },
  {
   "cell_type": "code",
   "execution_count": 36,
   "id": "59536c12-935a-471e-a06f-b5643be82306",
   "metadata": {},
   "outputs": [
    {
     "name": "stdout",
     "output_type": "stream",
     "text": [
      "Failed to reject null hypothesis\n"
     ]
    }
   ],
   "source": [
    "test_1tail_larger(t, p)"
   ]
  },
  {
   "cell_type": "markdown",
   "id": "9402b2bf-64fb-413f-aa36-83c61759329a",
   "metadata": {},
   "source": [
    "H0: The average time to sell homes at office #1 equals the average time to sell homes at office #2.\n",
    "<br>\n",
    "Ha: The average time to sell homes at office #1 does not equal the average time to sell homes at office #2."
   ]
  },
  {
   "cell_type": "code",
   "execution_count": 38,
   "id": "dc6c9783-ffff-44b8-9015-3d7476abc71a",
   "metadata": {},
   "outputs": [
    {
     "name": "stdout",
     "output_type": "stream",
     "text": [
      "The null hypothesis is rejected\n"
     ]
    }
   ],
   "source": [
    "test_2tail(p)"
   ]
  },
  {
   "cell_type": "markdown",
   "id": "a9ba4e34-c604-4223-82ee-8e8bdf6c20a4",
   "metadata": {},
   "source": [
    "H0: The average time to sell homes at office #1 equals the average time to sell homes at office #2.\n",
    "<br>\n",
    "Ha: The average time to sell homes at office #1 is significantly smaller than the average time to sell homes at office #2."
   ]
  },
  {
   "cell_type": "code",
   "execution_count": 39,
   "id": "bbb64502-de69-47fd-be5e-eddf867de452",
   "metadata": {},
   "outputs": [
    {
     "name": "stdout",
     "output_type": "stream",
     "text": [
      "The null hypothesis is rejected\n"
     ]
    }
   ],
   "source": [
    "test_1tail_smaller(t, p)"
   ]
  },
  {
   "cell_type": "markdown",
   "id": "7b63c182-7946-43a9-bc30-23c92ee99220",
   "metadata": {},
   "source": [
    "**Conclusion**\n",
    "\n",
    "The average time to sell homes at office #1 is significantly smaller than the average time to sell homes at office #2."
   ]
  },
  {
   "cell_type": "markdown",
   "id": "b0efe806-c736-4fe3-9395-1668124eaf4c",
   "metadata": {},
   "source": [
    "---\n",
    "\n",
    "Load the mpg dataset and use it to answer the following questions:"
   ]
  },
  {
   "cell_type": "code",
   "execution_count": 5,
   "id": "80973cdc-bd50-4755-a920-04e502c61593",
   "metadata": {},
   "outputs": [
    {
     "name": "stdout",
     "output_type": "stream",
     "text": [
      "<class 'pandas.core.frame.DataFrame'>\n",
      "Int64Index: 234 entries, 1 to 234\n",
      "Data columns (total 11 columns):\n",
      " #   Column        Non-Null Count  Dtype  \n",
      "---  ------        --------------  -----  \n",
      " 0   manufacturer  234 non-null    object \n",
      " 1   model         234 non-null    object \n",
      " 2   displ         234 non-null    float64\n",
      " 3   year          234 non-null    int64  \n",
      " 4   cyl           234 non-null    int64  \n",
      " 5   trans         234 non-null    object \n",
      " 6   drv           234 non-null    object \n",
      " 7   cty           234 non-null    int64  \n",
      " 8   hwy           234 non-null    int64  \n",
      " 9   fl            234 non-null    object \n",
      " 10  class         234 non-null    object \n",
      "dtypes: float64(1), int64(4), object(6)\n",
      "memory usage: 21.9+ KB\n"
     ]
    }
   ],
   "source": [
    "mpg = data('mpg')\n",
    "mpg.info()\n",
    "alpha = 0.05"
   ]
  },
  {
   "cell_type": "markdown",
   "id": "5456c245-05ac-42db-9d16-edc509b332cd",
   "metadata": {},
   "source": [
    "---\n",
    "### Is there a difference in fuel-efficiency in cars from 2008 vs 1999?\n",
    "\n",
    "Here we will be comparing two different samples so we will use a two sample t-test for comparison.\n",
    "\n",
    "**Assumptions**\n",
    "\n",
    "- Normal Distribution, or at least 30 observations and \"kinda\" normal. The more observations you have, the less \"normal\" it needs to appear. (CLT)\n",
    "- Independent samples\n",
    "- Equal Variances (or set method argument to False when not"
   ]
  },
  {
   "cell_type": "code",
   "execution_count": 6,
   "id": "49b3a039-3413-4dde-be11-01ac788d0c46",
   "metadata": {},
   "outputs": [
    {
     "data": {
      "text/html": [
       "<div>\n",
       "<style scoped>\n",
       "    .dataframe tbody tr th:only-of-type {\n",
       "        vertical-align: middle;\n",
       "    }\n",
       "\n",
       "    .dataframe tbody tr th {\n",
       "        vertical-align: top;\n",
       "    }\n",
       "\n",
       "    .dataframe thead th {\n",
       "        text-align: right;\n",
       "    }\n",
       "</style>\n",
       "<table border=\"1\" class=\"dataframe\">\n",
       "  <thead>\n",
       "    <tr style=\"text-align: right;\">\n",
       "      <th></th>\n",
       "      <th>manufacturer</th>\n",
       "      <th>model</th>\n",
       "      <th>displ</th>\n",
       "      <th>year</th>\n",
       "      <th>cyl</th>\n",
       "      <th>trans</th>\n",
       "      <th>drv</th>\n",
       "      <th>cty</th>\n",
       "      <th>hwy</th>\n",
       "      <th>fl</th>\n",
       "      <th>class</th>\n",
       "      <th>avg_mpg</th>\n",
       "    </tr>\n",
       "  </thead>\n",
       "  <tbody>\n",
       "    <tr>\n",
       "      <th>1</th>\n",
       "      <td>audi</td>\n",
       "      <td>a4</td>\n",
       "      <td>1.8</td>\n",
       "      <td>1999</td>\n",
       "      <td>4</td>\n",
       "      <td>auto(l5)</td>\n",
       "      <td>f</td>\n",
       "      <td>18</td>\n",
       "      <td>29</td>\n",
       "      <td>p</td>\n",
       "      <td>compact</td>\n",
       "      <td>23.5</td>\n",
       "    </tr>\n",
       "    <tr>\n",
       "      <th>2</th>\n",
       "      <td>audi</td>\n",
       "      <td>a4</td>\n",
       "      <td>1.8</td>\n",
       "      <td>1999</td>\n",
       "      <td>4</td>\n",
       "      <td>manual(m5)</td>\n",
       "      <td>f</td>\n",
       "      <td>21</td>\n",
       "      <td>29</td>\n",
       "      <td>p</td>\n",
       "      <td>compact</td>\n",
       "      <td>25.0</td>\n",
       "    </tr>\n",
       "    <tr>\n",
       "      <th>3</th>\n",
       "      <td>audi</td>\n",
       "      <td>a4</td>\n",
       "      <td>2.0</td>\n",
       "      <td>2008</td>\n",
       "      <td>4</td>\n",
       "      <td>manual(m6)</td>\n",
       "      <td>f</td>\n",
       "      <td>20</td>\n",
       "      <td>31</td>\n",
       "      <td>p</td>\n",
       "      <td>compact</td>\n",
       "      <td>25.5</td>\n",
       "    </tr>\n",
       "    <tr>\n",
       "      <th>4</th>\n",
       "      <td>audi</td>\n",
       "      <td>a4</td>\n",
       "      <td>2.0</td>\n",
       "      <td>2008</td>\n",
       "      <td>4</td>\n",
       "      <td>auto(av)</td>\n",
       "      <td>f</td>\n",
       "      <td>21</td>\n",
       "      <td>30</td>\n",
       "      <td>p</td>\n",
       "      <td>compact</td>\n",
       "      <td>25.5</td>\n",
       "    </tr>\n",
       "    <tr>\n",
       "      <th>5</th>\n",
       "      <td>audi</td>\n",
       "      <td>a4</td>\n",
       "      <td>2.8</td>\n",
       "      <td>1999</td>\n",
       "      <td>6</td>\n",
       "      <td>auto(l5)</td>\n",
       "      <td>f</td>\n",
       "      <td>16</td>\n",
       "      <td>26</td>\n",
       "      <td>p</td>\n",
       "      <td>compact</td>\n",
       "      <td>21.0</td>\n",
       "    </tr>\n",
       "  </tbody>\n",
       "</table>\n",
       "</div>"
      ],
      "text/plain": [
       "  manufacturer model  displ  year  cyl       trans drv  cty  hwy fl    class  \\\n",
       "1         audi    a4    1.8  1999    4    auto(l5)   f   18   29  p  compact   \n",
       "2         audi    a4    1.8  1999    4  manual(m5)   f   21   29  p  compact   \n",
       "3         audi    a4    2.0  2008    4  manual(m6)   f   20   31  p  compact   \n",
       "4         audi    a4    2.0  2008    4    auto(av)   f   21   30  p  compact   \n",
       "5         audi    a4    2.8  1999    6    auto(l5)   f   16   26  p  compact   \n",
       "\n",
       "   avg_mpg  \n",
       "1     23.5  \n",
       "2     25.0  \n",
       "3     25.5  \n",
       "4     25.5  \n",
       "5     21.0  "
      ]
     },
     "execution_count": 6,
     "metadata": {},
     "output_type": "execute_result"
    }
   ],
   "source": [
    "# Here we create a average mpg column in order to make comparing the fuel efficiency of each car easier.\n",
    "\n",
    "mpg['avg_mpg'] = (mpg.cty + mpg.hwy) / 2\n",
    "mpg.head()"
   ]
  },
  {
   "cell_type": "markdown",
   "id": "3546dac6-67d3-4935-99c3-03e35e35723a",
   "metadata": {},
   "source": [
    "**Verify Assumptions**"
   ]
  },
  {
   "cell_type": "code",
   "execution_count": 7,
   "id": "c805216c-3d60-4ff2-b089-5ef9285436c9",
   "metadata": {},
   "outputs": [
    {
     "data": {
      "text/plain": [
       "1999    117\n",
       "2008    117\n",
       "Name: year, dtype: int64"
      ]
     },
     "execution_count": 7,
     "metadata": {},
     "output_type": "execute_result"
    }
   ],
   "source": [
    "# Each sample has more than 30 observations, and they are independent samples\n",
    "\n",
    "mpg.year.value_counts()"
   ]
  },
  {
   "cell_type": "code",
   "execution_count": 8,
   "id": "75df4de6-5ebc-4ccc-afa4-c80d2b79170a",
   "metadata": {},
   "outputs": [],
   "source": [
    "# Now we assign our samples to variables\n",
    "\n",
    "sample_1999 = mpg[mpg.year == 1999].avg_mpg\n",
    "sample_2008 = mpg[mpg.year == 2008].avg_mpg"
   ]
  },
  {
   "cell_type": "code",
   "execution_count": 9,
   "id": "fdf470e5-141a-4542-b76f-eb49a3452557",
   "metadata": {},
   "outputs": [
    {
     "data": {
      "text/plain": [
       "(27.122605363984682, 24.097480106100797)"
      ]
     },
     "execution_count": 9,
     "metadata": {},
     "output_type": "execute_result"
    }
   ],
   "source": [
    "# The variances are not equal so we will set the equal_var argument to False\n",
    "\n",
    "sample_1999.var(), sample_2008.var()"
   ]
  },
  {
   "cell_type": "code",
   "execution_count": 10,
   "id": "264b20bc-75ad-4fa7-8801-f1d7e814c0c5",
   "metadata": {},
   "outputs": [],
   "source": [
    "# Calculate the t statistic and p value\n",
    "t, p = stats.ttest_ind(sample_1999, sample_2008, equal_var = False)"
   ]
  },
  {
   "cell_type": "markdown",
   "id": "7eed5c82-2951-4398-b6cb-26a9994014bd",
   "metadata": {},
   "source": [
    "H0: The average mpg for 1999 cars equals the average mpg for 2008 cars.\n",
    "<br>\n",
    "Ha: The average mpg for 1999 cars is significantly larger than the average mpg for 2008 cars."
   ]
  },
  {
   "cell_type": "code",
   "execution_count": 11,
   "id": "84cc6fcf-f02f-4ee0-949f-39274b87aefb",
   "metadata": {},
   "outputs": [
    {
     "name": "stdout",
     "output_type": "stream",
     "text": [
      "Failed to reject null hypothesis\n"
     ]
    }
   ],
   "source": [
    "test_1tail_larger(t, p)"
   ]
  },
  {
   "cell_type": "markdown",
   "id": "0dbf6769-cbc7-4d74-bf6d-bd1e8f3a4e48",
   "metadata": {},
   "source": [
    "H0: The average mpg for 1999 cars equals the average mpg for 2008 cars.\n",
    "<br>\n",
    "Ha: The average mpg for 1999 cars does not equal the average mpg for 2008 cars."
   ]
  },
  {
   "cell_type": "code",
   "execution_count": 12,
   "id": "378b6e9b-effb-451f-8920-a456b82d5068",
   "metadata": {},
   "outputs": [
    {
     "name": "stdout",
     "output_type": "stream",
     "text": [
      "Failed to reject null hypothesis\n"
     ]
    }
   ],
   "source": [
    "test_2tail(p)"
   ]
  },
  {
   "cell_type": "markdown",
   "id": "6a8f8a8e-738a-4c06-b08c-046f42df0b18",
   "metadata": {},
   "source": [
    "H0: The average mpg for 1999 cars equals the average mpg for 2008 cars.\n",
    "<br>\n",
    "Ha: The average mpg for 1999 cars is significantly smaller than the average mpg for 2008 cars."
   ]
  },
  {
   "cell_type": "code",
   "execution_count": 13,
   "id": "7ab42701-b915-4f24-b53b-4374f1674a3c",
   "metadata": {},
   "outputs": [
    {
     "name": "stdout",
     "output_type": "stream",
     "text": [
      "Failed to reject null hypothesis\n"
     ]
    }
   ],
   "source": [
    "test_1tail_smaller(t, p)"
   ]
  },
  {
   "cell_type": "markdown",
   "id": "10c7ef5a-e7dc-4c12-8bf8-8ede091b14e1",
   "metadata": {},
   "source": [
    "**Conclusion**\n",
    "\n",
    "There is no difference in fuel-efficiency in cars from 2008 vs 1999?"
   ]
  },
  {
   "cell_type": "markdown",
   "id": "5d509b62-dd60-41cb-b075-327a6ed37d34",
   "metadata": {},
   "source": [
    "---\n",
    "### Are compact cars more fuel-efficient than the average car?\n",
    "\n",
    "Here we will be comparing one sample to the overall so we will use a one sample t-test.\n",
    "\n",
    "**Assumptions**\n",
    "\n",
    "- Normal Distribution, or at least 30 observations and \"kinda\" normal. The more observations you have, the less \"normal\" it needs to appear. (CLT)"
   ]
  },
  {
   "cell_type": "code",
   "execution_count": 14,
   "id": "2552d8c0-f98d-4d70-9448-79a98755f205",
   "metadata": {},
   "outputs": [],
   "source": [
    "# Here we assign our sample to a variable\n",
    "\n",
    "compact_cars = mpg[mpg['class'] == 'compact'].avg_mpg"
   ]
  },
  {
   "cell_type": "markdown",
   "id": "8ddc49f4-a504-4d4b-8535-8c7690b23437",
   "metadata": {},
   "source": [
    "**Verify Asssumptions**"
   ]
  },
  {
   "cell_type": "code",
   "execution_count": 15,
   "id": "bd7b5aed-9ed8-4323-a947-0290523fc562",
   "metadata": {},
   "outputs": [
    {
     "data": {
      "text/plain": [
       "47"
      ]
     },
     "execution_count": 15,
     "metadata": {},
     "output_type": "execute_result"
    }
   ],
   "source": [
    "# We have more than 30 observations\n",
    "\n",
    "compact_cars.size"
   ]
  },
  {
   "cell_type": "code",
   "execution_count": 16,
   "id": "b3d03488-5d90-4aed-a118-b4da6faa525a",
   "metadata": {},
   "outputs": [],
   "source": [
    "# Calculate the overall mean, t statistic and p value\n",
    "overall_mean = mpg.avg_mpg.mean()\n",
    "\n",
    "alpha = 0.05\n",
    "t, p = stats.ttest_1samp(compact_cars, overall_mean)"
   ]
  },
  {
   "cell_type": "markdown",
   "id": "9350cf3b-0506-4848-a8a2-1ed93c5a6781",
   "metadata": {},
   "source": [
    "H0: The average mpg for compact cars equals the overall average mpg.\n",
    "<br>\n",
    "Ha: The average mpg for compact cars is significantly larger than the overall average mpg."
   ]
  },
  {
   "cell_type": "code",
   "execution_count": 17,
   "id": "7bb40a60-4192-4457-b8a7-690571a39aac",
   "metadata": {},
   "outputs": [
    {
     "name": "stdout",
     "output_type": "stream",
     "text": [
      "The null hypothesis is rejected\n"
     ]
    }
   ],
   "source": [
    "test_1tail_larger(t, p)"
   ]
  },
  {
   "cell_type": "markdown",
   "id": "a836fe26-eb1e-49b3-95fa-4bb41dceb407",
   "metadata": {},
   "source": [
    "H0: The average mpg for compact cars equals the overall average mpg.\n",
    "<br>\n",
    "Ha: The average mpg for compact cars does not equal the overall average mpg."
   ]
  },
  {
   "cell_type": "code",
   "execution_count": 18,
   "id": "b5238490-42d5-401b-8f59-e1d1c177eafc",
   "metadata": {},
   "outputs": [
    {
     "name": "stdout",
     "output_type": "stream",
     "text": [
      "The null hypothesis is rejected\n"
     ]
    }
   ],
   "source": [
    "test_2tail(p)"
   ]
  },
  {
   "cell_type": "markdown",
   "id": "2051acf1-0a5f-47b8-adb1-0daa2a954324",
   "metadata": {},
   "source": [
    "H0: The average mpg for compact cars equals the overall average mpg.\n",
    "<br>\n",
    "Ha: The average mpg for compact cars is significantly smaller than the overall average mpg."
   ]
  },
  {
   "cell_type": "code",
   "execution_count": 19,
   "id": "b02eae22-053e-41da-9c2d-cc3903fd2d86",
   "metadata": {},
   "outputs": [
    {
     "name": "stdout",
     "output_type": "stream",
     "text": [
      "Failed to reject null hypothesis\n"
     ]
    }
   ],
   "source": [
    "test_1tail_smaller(t, p)"
   ]
  },
  {
   "cell_type": "markdown",
   "id": "6231f646-6378-44bd-bb95-ffafdcef6cfd",
   "metadata": {},
   "source": [
    "**Conclusion**\n",
    "\n",
    "The fuel efficiency for compact cars is significantly larger than the overall fuel efficiency for all cars."
   ]
  },
  {
   "cell_type": "markdown",
   "id": "a6f6858d-22f9-4b74-ad6e-25a6a8904a1e",
   "metadata": {},
   "source": [
    "---\n",
    "### Do manual cars get better gas mileage than automatic cars?\n",
    "\n",
    "Here we will be comparing two different samples so we will use a two sample t-test for comparison.\n",
    "\n",
    "**Assumptions**\n",
    "\n",
    "- Normal Distribution, or at least 30 observations and \"kinda\" normal. The more observations you have, the less \"normal\" it needs to appear. (CLT)\n",
    "- Independent samples\n",
    "- Equal Variances (or set method argument to False when not"
   ]
  },
  {
   "cell_type": "code",
   "execution_count": 20,
   "id": "c9fbade3-54bf-41ac-8974-7e910fb65ec3",
   "metadata": {},
   "outputs": [],
   "source": [
    "# Assign the sample sets to variables\n",
    "\n",
    "manual_cars = mpg[mpg.trans.str.contains('manual')].avg_mpg\n",
    "automatic_cars = mpg[mpg.trans.str.contains('auto')].avg_mpg"
   ]
  },
  {
   "cell_type": "markdown",
   "id": "050d8a27-c76b-4f4a-92b8-772d865e6ece",
   "metadata": {},
   "source": [
    "**Verify Assumptions**"
   ]
  },
  {
   "cell_type": "code",
   "execution_count": 21,
   "id": "5d450593-62a1-43b1-becc-06efd08f2b57",
   "metadata": {},
   "outputs": [
    {
     "data": {
      "text/plain": [
       "(77, 157)"
      ]
     },
     "execution_count": 21,
     "metadata": {},
     "output_type": "execute_result"
    }
   ],
   "source": [
    "# Each sample has more than 30 observations, and they are independent samples\n",
    "\n",
    "manual_cars.size, automatic_cars.size"
   ]
  },
  {
   "cell_type": "code",
   "execution_count": 22,
   "id": "72c7ef91-4e5f-4943-a8db-d66ad23529ea",
   "metadata": {},
   "outputs": [
    {
     "data": {
      "text/plain": [
       "(26.635167464114826, 21.942777233382337)"
      ]
     },
     "execution_count": 22,
     "metadata": {},
     "output_type": "execute_result"
    }
   ],
   "source": [
    "# The variances are not equal so we will set the equal_var argument to False\n",
    "\n",
    "manual_cars.var(), automatic_cars.var()"
   ]
  },
  {
   "cell_type": "code",
   "execution_count": 23,
   "id": "3f4ede32-03f8-4576-bcac-aa5986292e37",
   "metadata": {},
   "outputs": [],
   "source": [
    "t, p = stats.ttest_ind(manual_cars, automatic_cars, equal_var = False)"
   ]
  },
  {
   "cell_type": "markdown",
   "id": "cabfae92-abef-4672-86b2-0cca7bb59f1b",
   "metadata": {},
   "source": [
    "H0: The average mpg for manual cars equals the average mpg for automatic cars\n",
    "<br>\n",
    "Ha: The average mpg for manual cars is significantly larger than the average mpg for automatic cars"
   ]
  },
  {
   "cell_type": "code",
   "execution_count": 24,
   "id": "58c6c399-2ddc-4334-b529-b1ccea4d30e7",
   "metadata": {},
   "outputs": [
    {
     "name": "stdout",
     "output_type": "stream",
     "text": [
      "The null hypothesis is rejected\n"
     ]
    }
   ],
   "source": [
    "test_1tail_larger(t, p)"
   ]
  },
  {
   "cell_type": "markdown",
   "id": "d93d1443-3ed1-4552-aa08-777e716fccf1",
   "metadata": {},
   "source": [
    "H0: The average mpg for manual cars equals the average mpg for automatic cars\n",
    "<br>\n",
    "Ha: The average mpg for manual cars does not equal the average mpg for automatic cars"
   ]
  },
  {
   "cell_type": "code",
   "execution_count": 25,
   "id": "dc1fa0e9-cb47-4621-b1ea-1399053b6d32",
   "metadata": {},
   "outputs": [
    {
     "name": "stdout",
     "output_type": "stream",
     "text": [
      "The null hypothesis is rejected\n"
     ]
    }
   ],
   "source": [
    "test_2tail(p)"
   ]
  },
  {
   "cell_type": "markdown",
   "id": "4dab46b8-9ad3-40dd-972c-2e748fd0fb00",
   "metadata": {},
   "source": [
    "H0: The average mpg for manual cars equals the average mpg for automatic cars\n",
    "<br>\n",
    "Ha: The average mpg for manual cars is significantly smaller than the average mpg for automatic cars"
   ]
  },
  {
   "cell_type": "code",
   "execution_count": 26,
   "id": "3f694458-e18e-4939-b2c1-525ec660325e",
   "metadata": {},
   "outputs": [
    {
     "name": "stdout",
     "output_type": "stream",
     "text": [
      "Failed to reject null hypothesis\n"
     ]
    }
   ],
   "source": [
    "test_1tail_smaller(t, p)"
   ]
  },
  {
   "cell_type": "markdown",
   "id": "085146dc-8bba-46f3-a05e-2a3cc84a6f38",
   "metadata": {},
   "source": [
    "**Conclusion**\n",
    "\n",
    "The fuel efficiency of manual cars is significantly larger than the fuel efficiency of automatic cars."
   ]
  }
 ],
 "metadata": {
  "kernelspec": {
   "display_name": "Python 3 (ipykernel)",
   "language": "python",
   "name": "python3"
  },
  "language_info": {
   "codemirror_mode": {
    "name": "ipython",
    "version": 3
   },
   "file_extension": ".py",
   "mimetype": "text/x-python",
   "name": "python",
   "nbconvert_exporter": "python",
   "pygments_lexer": "ipython3",
   "version": "3.9.7"
  }
 },
 "nbformat": 4,
 "nbformat_minor": 5
}
