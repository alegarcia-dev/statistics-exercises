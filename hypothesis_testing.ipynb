{
 "cells": [
  {
   "cell_type": "markdown",
   "id": "c7f26d50-52dd-49b0-a82c-a17e9bcca401",
   "metadata": {},
   "source": [
    "# -"
   ]
  },
  {
   "cell_type": "code",
   "execution_count": 1,
   "id": "20bb9825-a11e-48d0-a0db-097d7277890e",
   "metadata": {},
   "outputs": [],
   "source": [
    "import pandas as pd\n",
    "import numpy as np\n",
    "import matplotlib.pyplot as plt\n",
    "import seaborn as sns\n",
    "from scipy import stats\n",
    "\n",
    "from pydataset import data\n",
    "from env import get_db_url"
   ]
  },
  {
   "cell_type": "code",
   "execution_count": 2,
   "id": "785d016c-9cbe-4b70-847f-86e78d4de5dd",
   "metadata": {},
   "outputs": [],
   "source": [
    "# Helper Functions\n",
    "\n",
    "α = 0.05\n",
    "\n",
    "def test_1tail_larger(t, p):\n",
    "    if (p / 2) < α and t > 0:\n",
    "        print('The null hypothesis is rejected')\n",
    "    else:\n",
    "        print('Failed to reject null hypothesis')\n",
    "        \n",
    "def test_1tail_smaller(t, p):\n",
    "    if (p / 2) < α and t < 0:\n",
    "        print('The null hypothesis is rejected')\n",
    "    else:\n",
    "        print('Failed to reject null hypothesis')\n",
    "        \n",
    "def test_2tail(p):\n",
    "    if p < α:\n",
    "        print('The null hypothesis is rejected')\n",
    "    else:\n",
    "        print('Failed to reject null hypothesis')"
   ]
  },
  {
   "cell_type": "markdown",
   "id": "983b1fe5-c1db-4a24-88ba-268ab1cbdff1",
   "metadata": {},
   "source": [
    "# Overview Exercises\n",
    "\n",
    "For each of the following questions, formulate a null and alternative hypothesis (be as specific as you can be), then give an example of what a true positive, true negative, type I and type II errors would look like."
   ]
  },
  {
   "cell_type": "markdown",
   "id": "06695dc7-797c-457f-819b-c33949d26cac",
   "metadata": {
    "tags": []
   },
   "source": [
    "---\n",
    "\n",
    "### Has the network latency gone up since we switched internet service providers?"
   ]
  },
  {
   "cell_type": "markdown",
   "id": "0bfaa31b-13cb-4ca5-b730-6c519fd03069",
   "metadata": {},
   "source": [
    "Null Hypothesis: There is no difference in network latency between internet service provider A and internet service provider B.\n",
    "\n",
    "Alternative Hypothesis: On average the network latency for internet service provider B is greater than that of internet service provider A.\n",
    "\n",
    "True Positive: Testing determines that there is a difference in network latency between ISP A and ISP B which agrees with reality.\n",
    "\n",
    "True Negative: Testing determines that there is no difference in network latency between ISP A and ISP B which agrees with reality.\n",
    "\n",
    "Type I Error: Testing determines that there is a difference in network latency between ISP A and ISP B, but in reality there is no difference.\n",
    "\n",
    "Type II Error: Testing determines that there is no difference in network latency between ISP A and ISP B, but in reality there is a difference."
   ]
  },
  {
   "cell_type": "markdown",
   "id": "724547e2-5385-470b-8080-3df25d1255c9",
   "metadata": {},
   "source": [
    "---\n",
    "\n",
    "### Is the website redesign any good?"
   ]
  },
  {
   "cell_type": "markdown",
   "id": "eda0e6ee-c2c5-416a-beb7-dd726b238fc6",
   "metadata": {},
   "source": [
    "Null Hypothesis: The website redesign does not resolve the issue raised about the old design.\n",
    "\n",
    "Alternative Hypothesis: The website redesign resolves the issue raised about the old design.\n",
    "\n",
    "True Positive: Testing determines that the redesign does resolve the issue raised about the old design which agrees with reality.\n",
    "\n",
    "True Negative: Testing determines that the resdesign does not resolve the issue raised about the old design which agrees with reality.\n",
    "\n",
    "Type I Error: Testing determines that the redesign does resolve the issue raised about the old design, but in reality it does not.\n",
    "\n",
    "Type II Error: Testing determines that the resdesign does not resolve the issue raised about the old design, but in reality it does."
   ]
  },
  {
   "cell_type": "markdown",
   "id": "e36f560c-ea38-493e-ae47-fdb8b3b2224d",
   "metadata": {},
   "source": [
    "---\n",
    "### Is our television ad driving more sales?"
   ]
  },
  {
   "cell_type": "markdown",
   "id": "cb34b263-dabc-43b6-84c7-4c4859209cde",
   "metadata": {},
   "source": [
    "Null Hypothesis: Our television ad is not driving more sales.\n",
    "\n",
    "Alternative Hypothesis: Our television ad is driving more sales.\n",
    "\n",
    "True Positive: Testing determines that our television ad is driving more sales which agrees with reality.\n",
    "\n",
    "True Negative: Testing determines that our television ad is not driving more sales which agrees with reality.\n",
    "\n",
    "Type I Error: Testing determines that our television ad is driving more sales, but in reality it is not.\n",
    "\n",
    "Type II Error: Testing determines that our television ad is not driving more sales, but in reality it is."
   ]
  },
  {
   "cell_type": "markdown",
   "id": "dce7f822-05d3-408d-9f07-aebbbc4a819b",
   "metadata": {},
   "source": [
    "# T-Test Exercises"
   ]
  },
  {
   "cell_type": "markdown",
   "id": "6c038636-c2b3-468d-b296-5cb30932af50",
   "metadata": {},
   "source": [
    "### Ace Realty\n",
    "\n",
    "Ace Realty wants to determine whether the average time it takes to sell homes is different for its two offices. A sample of 40 sales from office #1 revealed a mean of 90 days and a standard deviation of 15 days. A sample of 50 sales from office #2 revealed a mean of 100 days and a standard deviation of 20 days. Use a .05 level of significance."
   ]
  },
  {
   "cell_type": "markdown",
   "id": "aad0864d-b0dd-4233-90b3-8b687f84cb5e",
   "metadata": {},
   "source": [
    "We are comparing two samples so we will use a two sample t-test for comparison.\n",
    "\n",
    "**Assumptions**\n",
    "\n",
    "- Normal Distribution, or at least 30 observations and \"kinda\" normal. The more observations you have, the less \"normal\" it needs to appear. (CLT)\n",
    "- Independent samples\n",
    "- Equal Variances (or set method argument to False when not"
   ]
  },
  {
   "cell_type": "code",
   "execution_count": 3,
   "id": "b1041d1d-7356-4344-9ce0-3301cc96a928",
   "metadata": {},
   "outputs": [],
   "source": [
    "# Each sample has more than 30 observations so presume normal distributions\n",
    "\n",
    "sample1_mean = 90\n",
    "sample1_stddev = 15\n",
    "sample1_size = 40\n",
    "\n",
    "sample2_mean = 100\n",
    "sample2_stddev = 20\n",
    "sample2_size = 50"
   ]
  },
  {
   "cell_type": "code",
   "execution_count": 4,
   "id": "3664e8a9-16a7-4a76-bee7-7792cd0eda42",
   "metadata": {},
   "outputs": [
    {
     "data": {
      "text/plain": [
       "(225, 400)"
      ]
     },
     "execution_count": 4,
     "metadata": {},
     "output_type": "execute_result"
    }
   ],
   "source": [
    "# The variances are not equal so we will set the equal_var argument to False, the samples are independent.\n",
    "sample1_stddev ** 2, sample2_stddev ** 2"
   ]
  },
  {
   "cell_type": "code",
   "execution_count": 5,
   "id": "bbd63ef1-edab-4670-a997-c5a544b070d3",
   "metadata": {
    "tags": []
   },
   "outputs": [],
   "source": [
    "# Since we don't have the datasets we use the ttest_ind_from_stats function\n",
    "\n",
    "t, p = stats.ttest_ind_from_stats(\n",
    "    sample1_mean, \n",
    "    sample1_stddev, \n",
    "    sample1_size, \n",
    "    sample2_mean, \n",
    "    sample2_stddev, \n",
    "    sample2_size, \n",
    "    equal_var = False\n",
    ")"
   ]
  },
  {
   "cell_type": "markdown",
   "id": "b211da5a-8584-4d32-9647-22b63e764c38",
   "metadata": {},
   "source": [
    "$H_{0}$: The average time to sell homes at office #1 equals the average time to sell homes at office #2.\n",
    "<br>\n",
    "$H_{a}$: The average time to sell homes at office #1 is significantly larger than the average time to sell homes at office #2."
   ]
  },
  {
   "cell_type": "code",
   "execution_count": 6,
   "id": "59536c12-935a-471e-a06f-b5643be82306",
   "metadata": {},
   "outputs": [
    {
     "name": "stdout",
     "output_type": "stream",
     "text": [
      "Failed to reject null hypothesis\n"
     ]
    }
   ],
   "source": [
    "test_1tail_larger(t, p)"
   ]
  },
  {
   "cell_type": "markdown",
   "id": "9402b2bf-64fb-413f-aa36-83c61759329a",
   "metadata": {},
   "source": [
    "$H_{0}$: The average time to sell homes at office #1 equals the average time to sell homes at office #2.\n",
    "<br>\n",
    "$H_{a}$: The average time to sell homes at office #1 does not equal the average time to sell homes at office #2."
   ]
  },
  {
   "cell_type": "code",
   "execution_count": 7,
   "id": "dc6c9783-ffff-44b8-9015-3d7476abc71a",
   "metadata": {},
   "outputs": [
    {
     "name": "stdout",
     "output_type": "stream",
     "text": [
      "The null hypothesis is rejected\n"
     ]
    }
   ],
   "source": [
    "test_2tail(p)"
   ]
  },
  {
   "cell_type": "markdown",
   "id": "a9ba4e34-c604-4223-82ee-8e8bdf6c20a4",
   "metadata": {},
   "source": [
    "$H_{0}$: The average time to sell homes at office #1 equals the average time to sell homes at office #2.\n",
    "<br>\n",
    "$H_{a}$: The average time to sell homes at office #1 is significantly smaller than the average time to sell homes at office #2."
   ]
  },
  {
   "cell_type": "code",
   "execution_count": 8,
   "id": "bbb64502-de69-47fd-be5e-eddf867de452",
   "metadata": {},
   "outputs": [
    {
     "name": "stdout",
     "output_type": "stream",
     "text": [
      "The null hypothesis is rejected\n"
     ]
    }
   ],
   "source": [
    "test_1tail_smaller(t, p)"
   ]
  },
  {
   "cell_type": "markdown",
   "id": "7b63c182-7946-43a9-bc30-23c92ee99220",
   "metadata": {},
   "source": [
    "**Conclusion**\n",
    "\n",
    "The average time to sell homes at office #1 is significantly smaller than the average time to sell homes at office #2."
   ]
  },
  {
   "cell_type": "markdown",
   "id": "b0efe806-c736-4fe3-9395-1668124eaf4c",
   "metadata": {},
   "source": [
    "---\n",
    "\n",
    "### MPG\n",
    "\n",
    "Load the mpg dataset and use it to answer the following questions:"
   ]
  },
  {
   "cell_type": "code",
   "execution_count": 9,
   "id": "80973cdc-bd50-4755-a920-04e502c61593",
   "metadata": {},
   "outputs": [
    {
     "name": "stdout",
     "output_type": "stream",
     "text": [
      "<class 'pandas.core.frame.DataFrame'>\n",
      "Int64Index: 234 entries, 1 to 234\n",
      "Data columns (total 11 columns):\n",
      " #   Column        Non-Null Count  Dtype  \n",
      "---  ------        --------------  -----  \n",
      " 0   manufacturer  234 non-null    object \n",
      " 1   model         234 non-null    object \n",
      " 2   displ         234 non-null    float64\n",
      " 3   year          234 non-null    int64  \n",
      " 4   cyl           234 non-null    int64  \n",
      " 5   trans         234 non-null    object \n",
      " 6   drv           234 non-null    object \n",
      " 7   cty           234 non-null    int64  \n",
      " 8   hwy           234 non-null    int64  \n",
      " 9   fl            234 non-null    object \n",
      " 10  class         234 non-null    object \n",
      "dtypes: float64(1), int64(4), object(6)\n",
      "memory usage: 21.9+ KB\n"
     ]
    }
   ],
   "source": [
    "mpg = data('mpg')\n",
    "mpg.info()\n",
    "alpha = 0.05"
   ]
  },
  {
   "cell_type": "markdown",
   "id": "5456c245-05ac-42db-9d16-edc509b332cd",
   "metadata": {},
   "source": [
    "---\n",
    "### Is there a difference in fuel-efficiency in cars from 2008 vs 1999?\n",
    "\n",
    "Here we will be comparing two different samples so we will use a two sample t-test for comparison.\n",
    "\n",
    "**Assumptions**\n",
    "\n",
    "- Normal Distribution, or at least 30 observations and \"kinda\" normal. The more observations you have, the less \"normal\" it needs to appear. (CLT)\n",
    "- Independent samples\n",
    "- Equal Variances (or set method argument to False when not"
   ]
  },
  {
   "cell_type": "code",
   "execution_count": 10,
   "id": "49b3a039-3413-4dde-be11-01ac788d0c46",
   "metadata": {},
   "outputs": [
    {
     "data": {
      "text/html": [
       "<div>\n",
       "<style scoped>\n",
       "    .dataframe tbody tr th:only-of-type {\n",
       "        vertical-align: middle;\n",
       "    }\n",
       "\n",
       "    .dataframe tbody tr th {\n",
       "        vertical-align: top;\n",
       "    }\n",
       "\n",
       "    .dataframe thead th {\n",
       "        text-align: right;\n",
       "    }\n",
       "</style>\n",
       "<table border=\"1\" class=\"dataframe\">\n",
       "  <thead>\n",
       "    <tr style=\"text-align: right;\">\n",
       "      <th></th>\n",
       "      <th>manufacturer</th>\n",
       "      <th>model</th>\n",
       "      <th>displ</th>\n",
       "      <th>year</th>\n",
       "      <th>cyl</th>\n",
       "      <th>trans</th>\n",
       "      <th>drv</th>\n",
       "      <th>cty</th>\n",
       "      <th>hwy</th>\n",
       "      <th>fl</th>\n",
       "      <th>class</th>\n",
       "      <th>avg_mpg</th>\n",
       "    </tr>\n",
       "  </thead>\n",
       "  <tbody>\n",
       "    <tr>\n",
       "      <th>1</th>\n",
       "      <td>audi</td>\n",
       "      <td>a4</td>\n",
       "      <td>1.8</td>\n",
       "      <td>1999</td>\n",
       "      <td>4</td>\n",
       "      <td>auto(l5)</td>\n",
       "      <td>f</td>\n",
       "      <td>18</td>\n",
       "      <td>29</td>\n",
       "      <td>p</td>\n",
       "      <td>compact</td>\n",
       "      <td>23.5</td>\n",
       "    </tr>\n",
       "    <tr>\n",
       "      <th>2</th>\n",
       "      <td>audi</td>\n",
       "      <td>a4</td>\n",
       "      <td>1.8</td>\n",
       "      <td>1999</td>\n",
       "      <td>4</td>\n",
       "      <td>manual(m5)</td>\n",
       "      <td>f</td>\n",
       "      <td>21</td>\n",
       "      <td>29</td>\n",
       "      <td>p</td>\n",
       "      <td>compact</td>\n",
       "      <td>25.0</td>\n",
       "    </tr>\n",
       "    <tr>\n",
       "      <th>3</th>\n",
       "      <td>audi</td>\n",
       "      <td>a4</td>\n",
       "      <td>2.0</td>\n",
       "      <td>2008</td>\n",
       "      <td>4</td>\n",
       "      <td>manual(m6)</td>\n",
       "      <td>f</td>\n",
       "      <td>20</td>\n",
       "      <td>31</td>\n",
       "      <td>p</td>\n",
       "      <td>compact</td>\n",
       "      <td>25.5</td>\n",
       "    </tr>\n",
       "    <tr>\n",
       "      <th>4</th>\n",
       "      <td>audi</td>\n",
       "      <td>a4</td>\n",
       "      <td>2.0</td>\n",
       "      <td>2008</td>\n",
       "      <td>4</td>\n",
       "      <td>auto(av)</td>\n",
       "      <td>f</td>\n",
       "      <td>21</td>\n",
       "      <td>30</td>\n",
       "      <td>p</td>\n",
       "      <td>compact</td>\n",
       "      <td>25.5</td>\n",
       "    </tr>\n",
       "    <tr>\n",
       "      <th>5</th>\n",
       "      <td>audi</td>\n",
       "      <td>a4</td>\n",
       "      <td>2.8</td>\n",
       "      <td>1999</td>\n",
       "      <td>6</td>\n",
       "      <td>auto(l5)</td>\n",
       "      <td>f</td>\n",
       "      <td>16</td>\n",
       "      <td>26</td>\n",
       "      <td>p</td>\n",
       "      <td>compact</td>\n",
       "      <td>21.0</td>\n",
       "    </tr>\n",
       "  </tbody>\n",
       "</table>\n",
       "</div>"
      ],
      "text/plain": [
       "  manufacturer model  displ  year  cyl       trans drv  cty  hwy fl    class  \\\n",
       "1         audi    a4    1.8  1999    4    auto(l5)   f   18   29  p  compact   \n",
       "2         audi    a4    1.8  1999    4  manual(m5)   f   21   29  p  compact   \n",
       "3         audi    a4    2.0  2008    4  manual(m6)   f   20   31  p  compact   \n",
       "4         audi    a4    2.0  2008    4    auto(av)   f   21   30  p  compact   \n",
       "5         audi    a4    2.8  1999    6    auto(l5)   f   16   26  p  compact   \n",
       "\n",
       "   avg_mpg  \n",
       "1     23.5  \n",
       "2     25.0  \n",
       "3     25.5  \n",
       "4     25.5  \n",
       "5     21.0  "
      ]
     },
     "execution_count": 10,
     "metadata": {},
     "output_type": "execute_result"
    }
   ],
   "source": [
    "# Here we create a average mpg column in order to make comparing the fuel efficiency of each car easier.\n",
    "\n",
    "mpg['avg_mpg'] = (mpg.cty + mpg.hwy) / 2\n",
    "mpg.head()"
   ]
  },
  {
   "cell_type": "markdown",
   "id": "3546dac6-67d3-4935-99c3-03e35e35723a",
   "metadata": {},
   "source": [
    "**Verify Assumptions**"
   ]
  },
  {
   "cell_type": "code",
   "execution_count": 11,
   "id": "c805216c-3d60-4ff2-b089-5ef9285436c9",
   "metadata": {},
   "outputs": [
    {
     "data": {
      "text/plain": [
       "1999    117\n",
       "2008    117\n",
       "Name: year, dtype: int64"
      ]
     },
     "execution_count": 11,
     "metadata": {},
     "output_type": "execute_result"
    }
   ],
   "source": [
    "# Each sample has more than 30 observations, and they are independent samples\n",
    "\n",
    "mpg.year.value_counts()"
   ]
  },
  {
   "cell_type": "code",
   "execution_count": 12,
   "id": "75df4de6-5ebc-4ccc-afa4-c80d2b79170a",
   "metadata": {},
   "outputs": [],
   "source": [
    "# Now we assign our samples to variables\n",
    "\n",
    "sample_1999 = mpg[mpg.year == 1999].avg_mpg\n",
    "sample_2008 = mpg[mpg.year == 2008].avg_mpg"
   ]
  },
  {
   "cell_type": "code",
   "execution_count": 13,
   "id": "fdf470e5-141a-4542-b76f-eb49a3452557",
   "metadata": {},
   "outputs": [
    {
     "data": {
      "text/plain": [
       "(27.122605363984682, 24.097480106100797)"
      ]
     },
     "execution_count": 13,
     "metadata": {},
     "output_type": "execute_result"
    }
   ],
   "source": [
    "# The variances are not equal so we will set the equal_var argument to False\n",
    "\n",
    "sample_1999.var(), sample_2008.var()"
   ]
  },
  {
   "cell_type": "code",
   "execution_count": 14,
   "id": "264b20bc-75ad-4fa7-8801-f1d7e814c0c5",
   "metadata": {},
   "outputs": [],
   "source": [
    "# Calculate the t statistic and p value\n",
    "t, p = stats.ttest_ind(sample_1999, sample_2008, equal_var = False)"
   ]
  },
  {
   "cell_type": "markdown",
   "id": "7eed5c82-2951-4398-b6cb-26a9994014bd",
   "metadata": {},
   "source": [
    "$H_{0}$: The average mpg for 1999 cars equals the average mpg for 2008 cars.\n",
    "<br>\n",
    "$H_{a}$: The average mpg for 1999 cars is significantly larger than the average mpg for 2008 cars."
   ]
  },
  {
   "cell_type": "code",
   "execution_count": 15,
   "id": "84cc6fcf-f02f-4ee0-949f-39274b87aefb",
   "metadata": {},
   "outputs": [
    {
     "name": "stdout",
     "output_type": "stream",
     "text": [
      "Failed to reject null hypothesis\n"
     ]
    }
   ],
   "source": [
    "test_1tail_larger(t, p)"
   ]
  },
  {
   "cell_type": "markdown",
   "id": "0dbf6769-cbc7-4d74-bf6d-bd1e8f3a4e48",
   "metadata": {},
   "source": [
    "$H_{0}$: The average mpg for 1999 cars equals the average mpg for 2008 cars.\n",
    "<br>\n",
    "$H_{a}$: The average mpg for 1999 cars does not equal the average mpg for 2008 cars."
   ]
  },
  {
   "cell_type": "code",
   "execution_count": 16,
   "id": "378b6e9b-effb-451f-8920-a456b82d5068",
   "metadata": {},
   "outputs": [
    {
     "name": "stdout",
     "output_type": "stream",
     "text": [
      "Failed to reject null hypothesis\n"
     ]
    }
   ],
   "source": [
    "test_2tail(p)"
   ]
  },
  {
   "cell_type": "markdown",
   "id": "6a8f8a8e-738a-4c06-b08c-046f42df0b18",
   "metadata": {},
   "source": [
    "$H_{0}$: The average mpg for 1999 cars equals the average mpg for 2008 cars.\n",
    "<br>\n",
    "$H_{a}$: The average mpg for 1999 cars is significantly smaller than the average mpg for 2008 cars."
   ]
  },
  {
   "cell_type": "code",
   "execution_count": 17,
   "id": "7ab42701-b915-4f24-b53b-4374f1674a3c",
   "metadata": {},
   "outputs": [
    {
     "name": "stdout",
     "output_type": "stream",
     "text": [
      "Failed to reject null hypothesis\n"
     ]
    }
   ],
   "source": [
    "test_1tail_smaller(t, p)"
   ]
  },
  {
   "cell_type": "markdown",
   "id": "10c7ef5a-e7dc-4c12-8bf8-8ede091b14e1",
   "metadata": {},
   "source": [
    "**Conclusion**\n",
    "\n",
    "There is no difference in fuel-efficiency in cars from 2008 vs 1999?"
   ]
  },
  {
   "cell_type": "markdown",
   "id": "5d509b62-dd60-41cb-b075-327a6ed37d34",
   "metadata": {},
   "source": [
    "---\n",
    "### Are compact cars more fuel-efficient than the average car?\n",
    "\n",
    "Here we will be comparing one sample to the overall so we will use a one sample t-test.\n",
    "\n",
    "**Assumptions**\n",
    "\n",
    "- Normal Distribution, or at least 30 observations and \"kinda\" normal. The more observations you have, the less \"normal\" it needs to appear. (CLT)"
   ]
  },
  {
   "cell_type": "code",
   "execution_count": 18,
   "id": "2552d8c0-f98d-4d70-9448-79a98755f205",
   "metadata": {},
   "outputs": [],
   "source": [
    "# Here we assign our sample to a variable\n",
    "\n",
    "compact_cars = mpg[mpg['class'] == 'compact'].avg_mpg"
   ]
  },
  {
   "cell_type": "markdown",
   "id": "8ddc49f4-a504-4d4b-8535-8c7690b23437",
   "metadata": {},
   "source": [
    "**Verify Asssumptions**"
   ]
  },
  {
   "cell_type": "code",
   "execution_count": 19,
   "id": "bd7b5aed-9ed8-4323-a947-0290523fc562",
   "metadata": {},
   "outputs": [
    {
     "data": {
      "text/plain": [
       "47"
      ]
     },
     "execution_count": 19,
     "metadata": {},
     "output_type": "execute_result"
    }
   ],
   "source": [
    "# We have more than 30 observations\n",
    "\n",
    "compact_cars.size"
   ]
  },
  {
   "cell_type": "code",
   "execution_count": 20,
   "id": "b3d03488-5d90-4aed-a118-b4da6faa525a",
   "metadata": {},
   "outputs": [],
   "source": [
    "# Calculate the overall mean, t statistic and p value\n",
    "overall_mean = mpg.avg_mpg.mean()\n",
    "\n",
    "alpha = 0.05\n",
    "t, p = stats.ttest_1samp(compact_cars, overall_mean)"
   ]
  },
  {
   "cell_type": "markdown",
   "id": "9350cf3b-0506-4848-a8a2-1ed93c5a6781",
   "metadata": {},
   "source": [
    "$H_{0}$: The average mpg for compact cars equals the overall average mpg.\n",
    "<br>\n",
    "$H_{a}$: The average mpg for compact cars is significantly larger than the overall average mpg."
   ]
  },
  {
   "cell_type": "code",
   "execution_count": 21,
   "id": "7bb40a60-4192-4457-b8a7-690571a39aac",
   "metadata": {},
   "outputs": [
    {
     "name": "stdout",
     "output_type": "stream",
     "text": [
      "The null hypothesis is rejected\n"
     ]
    }
   ],
   "source": [
    "test_1tail_larger(t, p)"
   ]
  },
  {
   "cell_type": "markdown",
   "id": "a836fe26-eb1e-49b3-95fa-4bb41dceb407",
   "metadata": {},
   "source": [
    "$H_{0}$: The average mpg for compact cars equals the overall average mpg.\n",
    "<br>\n",
    "$H_{a}$: The average mpg for compact cars does not equal the overall average mpg."
   ]
  },
  {
   "cell_type": "code",
   "execution_count": 22,
   "id": "b5238490-42d5-401b-8f59-e1d1c177eafc",
   "metadata": {},
   "outputs": [
    {
     "name": "stdout",
     "output_type": "stream",
     "text": [
      "The null hypothesis is rejected\n"
     ]
    }
   ],
   "source": [
    "test_2tail(p)"
   ]
  },
  {
   "cell_type": "markdown",
   "id": "2051acf1-0a5f-47b8-adb1-0daa2a954324",
   "metadata": {},
   "source": [
    "$H_{0}$: The average mpg for compact cars equals the overall average mpg.\n",
    "<br>\n",
    "$H_{a}$: The average mpg for compact cars is significantly smaller than the overall average mpg."
   ]
  },
  {
   "cell_type": "code",
   "execution_count": 23,
   "id": "b02eae22-053e-41da-9c2d-cc3903fd2d86",
   "metadata": {},
   "outputs": [
    {
     "name": "stdout",
     "output_type": "stream",
     "text": [
      "Failed to reject null hypothesis\n"
     ]
    }
   ],
   "source": [
    "test_1tail_smaller(t, p)"
   ]
  },
  {
   "cell_type": "markdown",
   "id": "6231f646-6378-44bd-bb95-ffafdcef6cfd",
   "metadata": {},
   "source": [
    "**Conclusion**\n",
    "\n",
    "The fuel efficiency for compact cars is significantly larger than the overall fuel efficiency for all cars."
   ]
  },
  {
   "cell_type": "markdown",
   "id": "a6f6858d-22f9-4b74-ad6e-25a6a8904a1e",
   "metadata": {},
   "source": [
    "---\n",
    "### Do manual cars get better gas mileage than automatic cars?\n",
    "\n",
    "Here we will be comparing two different samples so we will use a two sample t-test for comparison.\n",
    "\n",
    "**Assumptions**\n",
    "\n",
    "- Normal Distribution, or at least 30 observations and \"kinda\" normal. The more observations you have, the less \"normal\" it needs to appear. (CLT)\n",
    "- Independent samples\n",
    "- Equal Variances (or set method argument to False when not"
   ]
  },
  {
   "cell_type": "code",
   "execution_count": 24,
   "id": "c9fbade3-54bf-41ac-8974-7e910fb65ec3",
   "metadata": {},
   "outputs": [],
   "source": [
    "# Assign the sample sets to variables\n",
    "\n",
    "manual_cars = mpg[mpg.trans.str.contains('manual')].avg_mpg\n",
    "automatic_cars = mpg[mpg.trans.str.contains('auto')].avg_mpg"
   ]
  },
  {
   "cell_type": "markdown",
   "id": "050d8a27-c76b-4f4a-92b8-772d865e6ece",
   "metadata": {},
   "source": [
    "**Verify Assumptions**"
   ]
  },
  {
   "cell_type": "code",
   "execution_count": 25,
   "id": "5d450593-62a1-43b1-becc-06efd08f2b57",
   "metadata": {},
   "outputs": [
    {
     "data": {
      "text/plain": [
       "(77, 157)"
      ]
     },
     "execution_count": 25,
     "metadata": {},
     "output_type": "execute_result"
    }
   ],
   "source": [
    "# Each sample has more than 30 observations, and they are independent samples\n",
    "\n",
    "manual_cars.size, automatic_cars.size"
   ]
  },
  {
   "cell_type": "code",
   "execution_count": 26,
   "id": "72c7ef91-4e5f-4943-a8db-d66ad23529ea",
   "metadata": {},
   "outputs": [
    {
     "data": {
      "text/plain": [
       "(26.635167464114826, 21.942777233382337)"
      ]
     },
     "execution_count": 26,
     "metadata": {},
     "output_type": "execute_result"
    }
   ],
   "source": [
    "# The variances are not equal so we will set the equal_var argument to False\n",
    "\n",
    "manual_cars.var(), automatic_cars.var()"
   ]
  },
  {
   "cell_type": "code",
   "execution_count": 27,
   "id": "3f4ede32-03f8-4576-bcac-aa5986292e37",
   "metadata": {},
   "outputs": [],
   "source": [
    "t, p = stats.ttest_ind(manual_cars, automatic_cars, equal_var = False)"
   ]
  },
  {
   "cell_type": "markdown",
   "id": "cabfae92-abef-4672-86b2-0cca7bb59f1b",
   "metadata": {},
   "source": [
    "$H_{0}$: The average mpg for manual cars equals the average mpg for automatic cars\n",
    "<br>\n",
    "$H_{a}$: The average mpg for manual cars is significantly larger than the average mpg for automatic cars"
   ]
  },
  {
   "cell_type": "code",
   "execution_count": 28,
   "id": "58c6c399-2ddc-4334-b529-b1ccea4d30e7",
   "metadata": {},
   "outputs": [
    {
     "name": "stdout",
     "output_type": "stream",
     "text": [
      "The null hypothesis is rejected\n"
     ]
    }
   ],
   "source": [
    "test_1tail_larger(t, p)"
   ]
  },
  {
   "cell_type": "markdown",
   "id": "d93d1443-3ed1-4552-aa08-777e716fccf1",
   "metadata": {},
   "source": [
    "$H_{0}$: The average mpg for manual cars equals the average mpg for automatic cars\n",
    "<br>\n",
    "$H_{a}$: The average mpg for manual cars does not equal the average mpg for automatic cars"
   ]
  },
  {
   "cell_type": "code",
   "execution_count": 29,
   "id": "dc1fa0e9-cb47-4621-b1ea-1399053b6d32",
   "metadata": {},
   "outputs": [
    {
     "name": "stdout",
     "output_type": "stream",
     "text": [
      "The null hypothesis is rejected\n"
     ]
    }
   ],
   "source": [
    "test_2tail(p)"
   ]
  },
  {
   "cell_type": "markdown",
   "id": "4dab46b8-9ad3-40dd-972c-2e748fd0fb00",
   "metadata": {},
   "source": [
    "$H_{0}$: The average mpg for manual cars equals the average mpg for automatic cars\n",
    "<br>\n",
    "$H_{a}$: The average mpg for manual cars is significantly smaller than the average mpg for automatic cars"
   ]
  },
  {
   "cell_type": "code",
   "execution_count": 30,
   "id": "3f694458-e18e-4939-b2c1-525ec660325e",
   "metadata": {},
   "outputs": [
    {
     "name": "stdout",
     "output_type": "stream",
     "text": [
      "Failed to reject null hypothesis\n"
     ]
    }
   ],
   "source": [
    "test_1tail_smaller(t, p)"
   ]
  },
  {
   "cell_type": "markdown",
   "id": "085146dc-8bba-46f3-a05e-2a3cc84a6f38",
   "metadata": {},
   "source": [
    "**Conclusion**\n",
    "\n",
    "The fuel efficiency of manual cars is significantly larger than the fuel efficiency of automatic cars."
   ]
  },
  {
   "cell_type": "markdown",
   "id": "7909620a-4ffe-443f-83b9-04d4f12d252d",
   "metadata": {},
   "source": [
    "---\n",
    "\n",
    "# Correlation Exercises"
   ]
  },
  {
   "cell_type": "markdown",
   "id": "bf5d3475-877a-4a42-a4a5-845524fdd6dd",
   "metadata": {},
   "source": [
    "## 1\n",
    "\n",
    "Use the telco_churn data. Does tenure correlate with monthly charges? Total charges? What happens if you control for phone and internet service?"
   ]
  },
  {
   "cell_type": "code",
   "execution_count": 54,
   "id": "6b128020-57f9-4caf-86b1-aed08b7f27af",
   "metadata": {},
   "outputs": [
    {
     "name": "stdout",
     "output_type": "stream",
     "text": [
      "<class 'pandas.core.frame.DataFrame'>\n",
      "RangeIndex: 7043 entries, 0 to 7042\n",
      "Data columns (total 21 columns):\n",
      " #   Column                    Non-Null Count  Dtype  \n",
      "---  ------                    --------------  -----  \n",
      " 0   customer_id               7043 non-null   object \n",
      " 1   gender                    7043 non-null   object \n",
      " 2   senior_citizen            7043 non-null   int64  \n",
      " 3   partner                   7043 non-null   object \n",
      " 4   dependents                7043 non-null   object \n",
      " 5   tenure                    7043 non-null   int64  \n",
      " 6   phone_service             7043 non-null   object \n",
      " 7   multiple_lines            7043 non-null   object \n",
      " 8   internet_service_type_id  7043 non-null   int64  \n",
      " 9   online_security           7043 non-null   object \n",
      " 10  online_backup             7043 non-null   object \n",
      " 11  device_protection         7043 non-null   object \n",
      " 12  tech_support              7043 non-null   object \n",
      " 13  streaming_tv              7043 non-null   object \n",
      " 14  streaming_movies          7043 non-null   object \n",
      " 15  contract_type_id          7043 non-null   int64  \n",
      " 16  paperless_billing         7043 non-null   object \n",
      " 17  payment_type_id           7043 non-null   int64  \n",
      " 18  monthly_charges           7043 non-null   float64\n",
      " 19  total_charges             7043 non-null   object \n",
      " 20  churn                     7043 non-null   object \n",
      "dtypes: float64(1), int64(5), object(15)\n",
      "memory usage: 1.1+ MB\n"
     ]
    }
   ],
   "source": [
    "# We will download the telco_churn data from mysql\n",
    "\n",
    "customers = pd.read_sql('SELECT * FROM customers', get_db_url('telco_churn'))\n",
    "customers.info()"
   ]
  },
  {
   "cell_type": "markdown",
   "id": "e4197097-3297-4b93-8227-0c92541a9198",
   "metadata": {},
   "source": [
    "### Does tenure correlate with monthly charges?\n",
    "\n",
    "$H_{0}$: There is no linear correlation between tenure and monthly charges.\n",
    "<br>\n",
    "$H_{a}$: There is a linear correlation between tenure and monthly charges."
   ]
  },
  {
   "cell_type": "code",
   "execution_count": 55,
   "id": "1a2c1fc5-cbc8-4f05-8e5a-dc5da4e8c119",
   "metadata": {},
   "outputs": [
    {
     "data": {
      "text/plain": [
       "(0.24789985628615263, 4.0940449914811555e-99)"
      ]
     },
     "execution_count": 55,
     "metadata": {},
     "output_type": "execute_result"
    }
   ],
   "source": [
    "r, p = stats.pearsonr(customers.tenure, customers.monthly_charges)\n",
    "r, p"
   ]
  },
  {
   "cell_type": "markdown",
   "id": "2d2168cd-baa9-442a-9c1e-a5391d41c859",
   "metadata": {},
   "source": [
    "### Does tenure correlate with total charges?\n",
    "\n",
    "$H_{0}$: There is no linear correlation between tenure and total charges.\n",
    "<br>\n",
    "$H_{a}$: There is a linear correlation between tenure and total charges."
   ]
  },
  {
   "cell_type": "code",
   "execution_count": 56,
   "id": "d6f4c3b4-8d6a-4324-98ed-a55c375d92bc",
   "metadata": {},
   "outputs": [],
   "source": [
    "# We must first fill in null values in the total_charges column\n",
    "customers_with_no_total_charges = customers.total_charges == ' '\n",
    "customers.loc[customers_with_no_total_charges, 'total_charges'] = '0'"
   ]
  },
  {
   "cell_type": "code",
   "execution_count": 78,
   "id": "f32dabb9-9bbf-4655-bf13-7cb4de032dcd",
   "metadata": {},
   "outputs": [
    {
     "data": {
      "text/plain": [
       "(0.8261783979502499, 0.0)"
      ]
     },
     "execution_count": 78,
     "metadata": {},
     "output_type": "execute_result"
    }
   ],
   "source": [
    "r, p = stats.pearsonr(customers.tenure, customers.total_charges.astype('float'))\n",
    "r, p"
   ]
  },
  {
   "cell_type": "markdown",
   "id": "36e4e515-6836-45b7-8c42-859bb42ec79c",
   "metadata": {},
   "source": [
    "### Does tenure correlate with monthly charges when we control for phone and internet service?"
   ]
  },
  {
   "cell_type": "markdown",
   "id": "0b7974b0-4084-4043-92cf-729f74659181",
   "metadata": {},
   "source": [
    "$H_{0}$: There is no linear correlation between tenure and monthly charges for customers with phone service.\n",
    "<br>\n",
    "$H_{a}$: There is a linear correlation between tenure and monthly charges for customers with phone service."
   ]
  },
  {
   "cell_type": "code",
   "execution_count": 59,
   "id": "e28cc08b-9aaf-4424-a258-27c3a49059b8",
   "metadata": {},
   "outputs": [
    {
     "data": {
      "text/plain": [
       "(0.24538898585363167, 7.11787107794137e-88)"
      ]
     },
     "execution_count": 59,
     "metadata": {},
     "output_type": "execute_result"
    }
   ],
   "source": [
    "# For customers with phone service\n",
    "customers_with_phone = customers.phone_service == 'Yes'\n",
    "\n",
    "r, p = stats.pearsonr(customers[customers_with_phone].tenure, customers[customers_with_phone].monthly_charges)\n",
    "r, p"
   ]
  },
  {
   "cell_type": "markdown",
   "id": "8ccf6b9f-56c8-4e94-9a0a-01bfe62118eb",
   "metadata": {},
   "source": [
    "$H_{0}$: There is no linear correlation between tenure and monthly charges for customers without phone service.\n",
    "<br>\n",
    "$H_{a}$: There is a linear correlation between tenure and monthly charges for customers without phone service."
   ]
  },
  {
   "cell_type": "code",
   "execution_count": 61,
   "id": "c47bc920-9f68-4826-a743-ec44b84b64a7",
   "metadata": {},
   "outputs": [
    {
     "data": {
      "text/plain": [
       "(0.5857597986661369, 4.6033703473420516e-64)"
      ]
     },
     "execution_count": 61,
     "metadata": {},
     "output_type": "execute_result"
    }
   ],
   "source": [
    "# For customers without phone service\n",
    "customers_without_phone = customers.phone_service == 'No'\n",
    "\n",
    "r, p = stats.pearsonr(customers[customers_without_phone].tenure, customers[customers_without_phone].monthly_charges)\n",
    "r, p"
   ]
  },
  {
   "cell_type": "markdown",
   "id": "5490a960-800f-49aa-9cc0-93450c72584e",
   "metadata": {},
   "source": [
    "$H_{0}$: There is no linear correlation between tenure and monthly charges for customers with internet service.\n",
    "<br>\n",
    "$H_{a}$: There is a linear correlation between tenure and monthly charges for customers with internet service."
   ]
  },
  {
   "cell_type": "code",
   "execution_count": 63,
   "id": "e58905a0-93fc-4ae5-9b89-87d90fb09d1b",
   "metadata": {},
   "outputs": [
    {
     "data": {
      "text/plain": [
       "(0.34232562306194547, 3.3561869551954843e-43)"
      ]
     },
     "execution_count": 63,
     "metadata": {},
     "output_type": "execute_result"
    }
   ],
   "source": [
    "# For customers with internet service\n",
    "customer_with_internet = customers.internet_service_type_id == 3\n",
    "\n",
    "r, p = stats.pearsonr(customers[customer_with_internet].tenure, customers[customer_with_internet].monthly_charges)\n",
    "r, p"
   ]
  },
  {
   "cell_type": "markdown",
   "id": "3b2e1772-9c7f-4d1b-be0b-38b0ae89873e",
   "metadata": {},
   "source": [
    "$H_{0}$: There is no linear correlation between tenure and monthly charges for customers without internet service.\n",
    "<br>\n",
    "$H_{a}$: There is a linear correlation between tenure and monthly charges for customers without internet service."
   ]
  },
  {
   "cell_type": "code",
   "execution_count": 64,
   "id": "39feb2b8-ff8e-417b-af73-876944da8aa5",
   "metadata": {},
   "outputs": [
    {
     "data": {
      "text/plain": [
       "(0.3723066263198684, 5.890963580506786e-181)"
      ]
     },
     "execution_count": 64,
     "metadata": {},
     "output_type": "execute_result"
    }
   ],
   "source": [
    "# For customers with internet service\n",
    "customer_without_internet = customers.internet_service_type_id != 3\n",
    "\n",
    "r, p = stats.pearsonr(customers[customer_without_internet].tenure, customers[customer_without_internet].monthly_charges)\n",
    "r, p"
   ]
  },
  {
   "cell_type": "markdown",
   "id": "63b137c1-7485-4e0f-b092-bb195dad64e4",
   "metadata": {},
   "source": [
    "### What about total charges when we control for phone and internet service?"
   ]
  },
  {
   "cell_type": "markdown",
   "id": "e6b809b6-559f-476e-a5b5-07b9201bd045",
   "metadata": {},
   "source": [
    "$H_{0}$: There is no linear correlation between tenure and total charges for customers with phone service.\n",
    "<br>\n",
    "$H_{a}$: There is a linear correlation between tenure and total charges for customers with phone service."
   ]
  },
  {
   "cell_type": "code",
   "execution_count": 66,
   "id": "d0b5a51c-3b9b-4093-b9c9-501ac1e37bae",
   "metadata": {},
   "outputs": [
    {
     "data": {
      "text/plain": [
       "(0.8301076972900451, 0.0)"
      ]
     },
     "execution_count": 66,
     "metadata": {},
     "output_type": "execute_result"
    }
   ],
   "source": [
    "r, p = stats.pearsonr(customers[customers_with_phone].tenure, customers[customers_with_phone].total_charges.astype('float'))\n",
    "r, p"
   ]
  },
  {
   "cell_type": "markdown",
   "id": "64952bc0-64cd-4702-8497-098cee7fdaaf",
   "metadata": {},
   "source": [
    "$H_{0}$: There is no linear correlation between tenure and total charges for customers without phone service.\n",
    "<br>\n",
    "$H_{a}$: There is a linear correlation between tenure and total charges for customers without phone service."
   ]
  },
  {
   "cell_type": "code",
   "execution_count": 68,
   "id": "682ed428-641e-4a08-9290-85dcc2f6c1b5",
   "metadata": {},
   "outputs": [
    {
     "data": {
      "text/plain": [
       "(0.9535697728407466, 0.0)"
      ]
     },
     "execution_count": 68,
     "metadata": {},
     "output_type": "execute_result"
    }
   ],
   "source": [
    "r, p = stats.pearsonr(customers[customers_without_phone].tenure, customers[customers_without_phone].total_charges.astype('float'))\n",
    "r, p"
   ]
  },
  {
   "cell_type": "markdown",
   "id": "421023ae-8031-4574-9e96-3c95adc972ec",
   "metadata": {},
   "source": [
    "$H_{0}$: There is no linear correlation between tenure and total charges for customers with internet service.\n",
    "<br>\n",
    "$H_{a}$: There is a linear correlation between tenure and total charges for customers with internet service."
   ]
  },
  {
   "cell_type": "code",
   "execution_count": 79,
   "id": "7b6a8851-cf07-4718-9bc7-5b344ece7097",
   "metadata": {},
   "outputs": [
    {
     "data": {
      "text/plain": [
       "(0.9815669784401068, 0.0)"
      ]
     },
     "execution_count": 79,
     "metadata": {},
     "output_type": "execute_result"
    }
   ],
   "source": [
    "r, p = stats.pearsonr(customers[customer_with_internet].tenure, customers[customer_with_internet].total_charges.astype('float'))\n",
    "r, p"
   ]
  },
  {
   "cell_type": "markdown",
   "id": "e08168f8-5fd4-40c8-9014-0bb6ec3ec1c3",
   "metadata": {},
   "source": [
    "$H_{0}$: There is no linear correlation between tenure and total charges for customers without internet service.\n",
    "<br>\n",
    "$H_{a}$: There is a linear correlation between tenure and total charges for customers without internet service."
   ]
  },
  {
   "cell_type": "code",
   "execution_count": 80,
   "id": "8b75abfd-20a9-40f9-b9bf-780a0212461a",
   "metadata": {},
   "outputs": [
    {
     "data": {
      "text/plain": [
       "(0.9320165580130593, 0.0)"
      ]
     },
     "execution_count": 80,
     "metadata": {},
     "output_type": "execute_result"
    }
   ],
   "source": [
    "r, p = stats.pearsonr(customers[customer_without_internet].tenure, customers[customer_without_internet].total_charges.astype('float'))\n",
    "r, p"
   ]
  },
  {
   "cell_type": "markdown",
   "id": "0fda0dfb-5092-45dc-bdbb-93ba2667a842",
   "metadata": {},
   "source": [
    "## 2\n",
    "\n",
    "Use the employees database."
   ]
  },
  {
   "cell_type": "markdown",
   "id": "2395dddc-8eea-46ac-8913-b31f238c6228",
   "metadata": {},
   "source": [
    "### Is there a relationship between how long an employee has been with the company and their salary?"
   ]
  },
  {
   "cell_type": "code",
   "execution_count": 84,
   "id": "de96079d-47ab-44bf-9249-8b4568d47da9",
   "metadata": {},
   "outputs": [
    {
     "name": "stdout",
     "output_type": "stream",
     "text": [
      "<class 'pandas.core.frame.DataFrame'>\n",
      "RangeIndex: 240124 entries, 0 to 240123\n",
      "Data columns (total 3 columns):\n",
      " #   Column             Non-Null Count   Dtype\n",
      "---  ------             --------------   -----\n",
      " 0   emp_no             240124 non-null  int64\n",
      " 1   salary             240124 non-null  int64\n",
      " 2   days_with_company  240124 non-null  int64\n",
      "dtypes: int64(3)\n",
      "memory usage: 5.5 MB\n"
     ]
    }
   ],
   "source": [
    "# Here we are only looking at current employees and their current salaries\n",
    "sql = '''\n",
    "SELECT\n",
    "    employees.emp_no,\n",
    "    salaries.salary,\n",
    "    DATEDIFF(NOW(), employees.hire_date) AS days_with_company\n",
    "FROM employees\n",
    "JOIN salaries USING (emp_no)\n",
    "WHERE salaries.to_date > NOW();\n",
    "'''\n",
    "\n",
    "salaries = pd.read_sql(sql, get_db_url('employees'))\n",
    "salaries.info()"
   ]
  },
  {
   "cell_type": "markdown",
   "id": "5810d949-77ea-4678-b3ef-e8d4fe2dc012",
   "metadata": {},
   "source": [
    "$H_{0}$: There is no linear correlation between salary and how long an employee has been with the company.\n",
    "<br>\n",
    "$H_{a}$: There is a linear correlation between salary and how long an employee has been with the company."
   ]
  },
  {
   "cell_type": "code",
   "execution_count": 83,
   "id": "fba9a013-54f5-4489-8d37-90406fe9ceb2",
   "metadata": {},
   "outputs": [
    {
     "data": {
      "text/plain": [
       "(0.30646256131860894, 0.0)"
      ]
     },
     "execution_count": 83,
     "metadata": {},
     "output_type": "execute_result"
    }
   ],
   "source": [
    "r, p = stats.pearsonr(salaries.salary, salaries.days_with_company)\n",
    "r, p"
   ]
  },
  {
   "cell_type": "markdown",
   "id": "ad8ca917-3980-4262-bd60-d29fa73f9808",
   "metadata": {},
   "source": [
    "### Is there a relationship between how long an employee has been with the company and the number of titles they have had?"
   ]
  },
  {
   "cell_type": "code",
   "execution_count": 85,
   "id": "6a0ca9db-382b-4960-a94e-965c4b154db7",
   "metadata": {},
   "outputs": [
    {
     "name": "stdout",
     "output_type": "stream",
     "text": [
      "<class 'pandas.core.frame.DataFrame'>\n",
      "RangeIndex: 240124 entries, 0 to 240123\n",
      "Data columns (total 3 columns):\n",
      " #   Column             Non-Null Count   Dtype\n",
      "---  ------             --------------   -----\n",
      " 0   emp_no             240124 non-null  int64\n",
      " 1   num_titles         240124 non-null  int64\n",
      " 2   days_with_company  240124 non-null  int64\n",
      "dtypes: int64(3)\n",
      "memory usage: 5.5 MB\n"
     ]
    }
   ],
   "source": [
    "# Here we are only looking at current employees and their current salaries\n",
    "sql = '''\n",
    "SELECT\n",
    "    employees.emp_no,\n",
    "    titles_count.num_titles,\n",
    "    DATEDIFF(NOW(), employees.hire_date) AS days_with_company\n",
    "FROM employees\n",
    "JOIN titles USING (emp_no)\n",
    "JOIN (\n",
    "    SELECT\n",
    "        emp_no,\n",
    "        COUNT(title) AS num_titles\n",
    "    FROM titles\n",
    "    GROUP BY emp_no\n",
    ") AS titles_count USING (emp_no)\n",
    "WHERE titles.to_date > NOW();\n",
    "'''\n",
    "\n",
    "titles = pd.read_sql(sql, get_db_url('employees'))\n",
    "titles.info()"
   ]
  },
  {
   "cell_type": "markdown",
   "id": "faf0ff85-5d66-4042-b7a0-057e9b167e73",
   "metadata": {},
   "source": [
    "$H_{0}$: There is no correlation between the number of titles an employee has had and how long an employee has been with the company.\n",
    "<br>\n",
    "$H_{a}$: There is a correlation between the number of titles an employee has had and how long an employee has been with the company."
   ]
  },
  {
   "cell_type": "code",
   "execution_count": 87,
   "id": "8605e841-4eb8-4828-a764-9d2e3d65f1ca",
   "metadata": {},
   "outputs": [
    {
     "data": {
      "text/plain": [
       "(0.2871267889699541, 0.0)"
      ]
     },
     "execution_count": 87,
     "metadata": {},
     "output_type": "execute_result"
    }
   ],
   "source": [
    "r, p = stats.pearsonr(titles.num_titles, titles.days_with_company)\n",
    "r, p"
   ]
  },
  {
   "cell_type": "markdown",
   "id": "629bd353-7f08-4b7c-a946-8dc05000ef15",
   "metadata": {},
   "source": [
    "# 3\n",
    "\n",
    "Use the sleepstudy data. Is there a relationship between days and reaction time?"
   ]
  },
  {
   "cell_type": "code",
   "execution_count": 90,
   "id": "d14142fb-62ca-43c3-8f05-17b619301f12",
   "metadata": {},
   "outputs": [
    {
     "name": "stdout",
     "output_type": "stream",
     "text": [
      "<class 'pandas.core.frame.DataFrame'>\n",
      "Int64Index: 180 entries, 1 to 180\n",
      "Data columns (total 3 columns):\n",
      " #   Column    Non-Null Count  Dtype  \n",
      "---  ------    --------------  -----  \n",
      " 0   Reaction  180 non-null    float64\n",
      " 1   Days      180 non-null    int64  \n",
      " 2   Subject   180 non-null    int64  \n",
      "dtypes: float64(1), int64(2)\n",
      "memory usage: 5.6 KB\n"
     ]
    }
   ],
   "source": [
    "sleepstudy = data('sleepstudy')\n",
    "sleepstudy.info()"
   ]
  },
  {
   "cell_type": "markdown",
   "id": "9f3008ba-8d66-43ed-b941-319b187339c0",
   "metadata": {},
   "source": [
    "$H_{0}$: There is no correlation between days and reaction time.\n",
    "<br>\n",
    "$H_{a}$: There is a correlation between days and reaction time."
   ]
  },
  {
   "cell_type": "code",
   "execution_count": 91,
   "id": "957b6772-a0e9-4b51-852c-c80c8bd13fe7",
   "metadata": {},
   "outputs": [
    {
     "data": {
      "text/plain": [
       "(0.5352302262650253, 9.894096322214812e-15)"
      ]
     },
     "execution_count": 91,
     "metadata": {},
     "output_type": "execute_result"
    }
   ],
   "source": [
    "r, p = stats.pearsonr(sleepstudy.Days, sleepstudy.Reaction)\n",
    "r, p"
   ]
  }
 ],
 "metadata": {
  "kernelspec": {
   "display_name": "Python 3 (ipykernel)",
   "language": "python",
   "name": "python3"
  },
  "language_info": {
   "codemirror_mode": {
    "name": "ipython",
    "version": 3
   },
   "file_extension": ".py",
   "mimetype": "text/x-python",
   "name": "python",
   "nbconvert_exporter": "python",
   "pygments_lexer": "ipython3",
   "version": "3.9.7"
  }
 },
 "nbformat": 4,
 "nbformat_minor": 5
}
