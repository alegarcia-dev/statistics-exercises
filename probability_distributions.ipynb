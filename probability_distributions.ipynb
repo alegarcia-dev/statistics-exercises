{
 "cells": [
  {
   "cell_type": "code",
   "execution_count": 1,
   "id": "6efe37f9-2778-4eca-843e-a8e49a400b34",
   "metadata": {},
   "outputs": [],
   "source": [
    "import pandas as pd\n",
    "import numpy as np\n",
    "import matplotlib.pyplot as plt\n",
    "import seaborn as sns\n",
    "from scipy import stats"
   ]
  },
  {
   "cell_type": "code",
   "execution_count": 2,
   "id": "e07e7eac-b060-49e5-909a-85243af3af64",
   "metadata": {},
   "outputs": [],
   "source": [
    "from env import get_db_url"
   ]
  },
  {
   "cell_type": "code",
   "execution_count": 3,
   "id": "47d7fb99-8119-44cc-a203-c68b904931ae",
   "metadata": {},
   "outputs": [],
   "source": [
    "n_trials = 10000\n",
    "np.random.seed(24)"
   ]
  },
  {
   "cell_type": "markdown",
   "id": "d2319931-89fe-4bfb-a2b4-8a33cc99414d",
   "metadata": {},
   "source": [
    "# 1\n",
    "\n",
    "A bank found that the average number of cars waiting during the noon hour at a drive-up window follows a Poisson distribution with a mean of 2 cars. Make a chart of this distribution and answer these questions concerning the probability of cars waiting at the drive-up window."
   ]
  },
  {
   "cell_type": "code",
   "execution_count": 4,
   "id": "da8748dc-8cee-4359-a07d-dc8e8dfc94a2",
   "metadata": {},
   "outputs": [
    {
     "data": {
      "image/png": "[encoded data removed]",
      "text/plain": [
       "<Figure size 432x288 with 1 Axes>"
      ]
     },
     "metadata": {
      "needs_background": "light"
     },
     "output_type": "display_data"
    }
   ],
   "source": [
    "dist = stats.poisson(2)\n",
    "x = range(10)\n",
    "y = dist.pmf(x)\n",
    "plt.bar(x, y, edgecolor='black', color='teal', width=1);"
   ]
  },
  {
   "cell_type": "code",
   "execution_count": 5,
   "id": "e1a3b3c6-a46d-42e5-b503-088671eaea7f",
   "metadata": {},
   "outputs": [],
   "source": [
    "num_of_cars = np.array(dist.rvs(n_trials))"
   ]
  },
  {
   "cell_type": "markdown",
   "id": "9290c331-fcfc-492c-b00e-5ba7b9a6da1d",
   "metadata": {},
   "source": [
    "- What is the probability that no cars drive up in the noon hour?"
   ]
  },
  {
   "cell_type": "code",
   "execution_count": 6,
   "id": "cef854de-bd9c-49be-8766-0d5ced0f4eed",
   "metadata": {},
   "outputs": [
    {
     "data": {
      "text/plain": [
       "0.138"
      ]
     },
     "execution_count": 6,
     "metadata": {},
     "output_type": "execute_result"
    }
   ],
   "source": [
    "# Experimental\n",
    "(num_of_cars == 0).mean()"
   ]
  },
  {
   "cell_type": "code",
   "execution_count": 7,
   "id": "8684f21f-0a65-4753-89cb-4a2fe8ab7533",
   "metadata": {},
   "outputs": [
    {
     "data": {
      "text/plain": [
       "0.1353352832366127"
      ]
     },
     "execution_count": 7,
     "metadata": {},
     "output_type": "execute_result"
    }
   ],
   "source": [
    "# Theoretical\n",
    "dist.pmf(0)"
   ]
  },
  {
   "cell_type": "markdown",
   "id": "0ffa4c40-330f-47e6-8543-21ae6e6e8848",
   "metadata": {},
   "source": [
    "- What is the probability that 3 or more cars come through the drive through?"
   ]
  },
  {
   "cell_type": "code",
   "execution_count": 8,
   "id": "a73f896b-8979-48b0-a80d-a80fb3acd603",
   "metadata": {},
   "outputs": [
    {
     "data": {
      "text/plain": [
       "0.3212"
      ]
     },
     "execution_count": 8,
     "metadata": {},
     "output_type": "execute_result"
    }
   ],
   "source": [
    "# Experimental\n",
    "(num_of_cars >= 3).mean()"
   ]
  },
  {
   "cell_type": "code",
   "execution_count": 9,
   "id": "19973ad9-76be-4145-9ec3-fd4101ba8d13",
   "metadata": {},
   "outputs": [
    {
     "data": {
      "text/plain": [
       "0.32332358381693654"
      ]
     },
     "execution_count": 9,
     "metadata": {},
     "output_type": "execute_result"
    }
   ],
   "source": [
    "# Theoretical\n",
    "dist.sf(2)"
   ]
  },
  {
   "cell_type": "markdown",
   "id": "4107f8e2-1df0-4355-9271-58fa118b17c8",
   "metadata": {},
   "source": [
    "- How likely is it that the drive through gets at least 1 car?"
   ]
  },
  {
   "cell_type": "code",
   "execution_count": 10,
   "id": "4f084b6c-7c63-4b5d-8cf1-e55ee9605227",
   "metadata": {},
   "outputs": [
    {
     "data": {
      "text/plain": [
       "0.862"
      ]
     },
     "execution_count": 10,
     "metadata": {},
     "output_type": "execute_result"
    }
   ],
   "source": [
    "# Experimental\n",
    "(num_of_cars > 0).mean()"
   ]
  },
  {
   "cell_type": "code",
   "execution_count": 11,
   "id": "cc3b639a-218c-4b38-b647-3f1636d62c63",
   "metadata": {},
   "outputs": [
    {
     "data": {
      "text/plain": [
       "0.8646647167633873"
      ]
     },
     "execution_count": 11,
     "metadata": {},
     "output_type": "execute_result"
    }
   ],
   "source": [
    "# Theoretical\n",
    "dist.sf(0)"
   ]
  },
  {
   "cell_type": "markdown",
   "id": "b2efbbef-9115-4d5b-afa5-a53b2f6858c3",
   "metadata": {},
   "source": [
    "# 2\n",
    "\n",
    "Grades of State University graduates are normally distributed with a mean of 3.0 and a standard deviation of .3. Calculate the following:"
   ]
  },
  {
   "cell_type": "code",
   "execution_count": 152,
   "id": "b720888e-0e2a-445a-8973-d002882bd577",
   "metadata": {},
   "outputs": [
    {
     "data": {
      "image/png": "[encoded data removed]",
      "text/plain": [
       "<Figure size 432x288 with 1 Axes>"
      ]
     },
     "metadata": {
      "needs_background": "light"
     },
     "output_type": "display_data"
    }
   ],
   "source": [
    "grades_dist = stats.norm(3.0, 0.3)\n",
    "\n",
    "x = np.arange(1.8, 4.0, 0.01)\n",
    "y = grades_dist.pdf(x)\n",
    "\n",
    "plt.plot(x, y, color='black');"
   ]
  },
  {
   "cell_type": "code",
   "execution_count": 13,
   "id": "f6353007-ee16-4894-82a7-6210cb8f7960",
   "metadata": {},
   "outputs": [],
   "source": [
    "grades_sim = grades_dist.rvs(n_trials)"
   ]
  },
  {
   "cell_type": "markdown",
   "id": "9e1296ff-f634-4c93-ae3e-71c6430a2b7f",
   "metadata": {},
   "source": [
    "- What grade point average is required to be in the top 5% of the graduating class?"
   ]
  },
  {
   "cell_type": "code",
   "execution_count": 14,
   "id": "e3c3da51-b23d-437a-ba88-82588e4ed76e",
   "metadata": {},
   "outputs": [
    {
     "data": {
      "text/plain": [
       "3.4984462616594385"
      ]
     },
     "execution_count": 14,
     "metadata": {},
     "output_type": "execute_result"
    }
   ],
   "source": [
    "# Experimental\n",
    "np.percentile(grades_sim, 95)"
   ]
  },
  {
   "cell_type": "code",
   "execution_count": 15,
   "id": "74af1b22-845f-4e98-b6a8-8218e1678bb9",
   "metadata": {},
   "outputs": [
    {
     "data": {
      "text/plain": [
       "3.4934560880854417"
      ]
     },
     "execution_count": 15,
     "metadata": {},
     "output_type": "execute_result"
    }
   ],
   "source": [
    "# Theoretical\n",
    "grades_dist.isf(0.05)"
   ]
  },
  {
   "cell_type": "markdown",
   "id": "dd1625fa-ae1d-4f6e-b708-589644cd4673",
   "metadata": {},
   "source": [
    "- What GPA constitutes the bottom 15% of the class?"
   ]
  },
  {
   "cell_type": "code",
   "execution_count": 16,
   "id": "c917b8eb-56dd-4054-adbd-87892d5284f2",
   "metadata": {},
   "outputs": [
    {
     "data": {
      "text/plain": [
       "2.6780320346656667"
      ]
     },
     "execution_count": 16,
     "metadata": {},
     "output_type": "execute_result"
    }
   ],
   "source": [
    "# Experimental\n",
    "np.percentile(grades_sim, 15)"
   ]
  },
  {
   "cell_type": "code",
   "execution_count": 17,
   "id": "632e85c8-3750-4318-b8c0-e036240fe731",
   "metadata": {},
   "outputs": [
    {
     "data": {
      "text/plain": [
       "2.689069983151863"
      ]
     },
     "execution_count": 17,
     "metadata": {},
     "output_type": "execute_result"
    }
   ],
   "source": [
    "# Theoretical\n",
    "grades_dist.ppf(0.15)"
   ]
  },
  {
   "cell_type": "markdown",
   "id": "ae0afe5d-0be1-43c3-b525-a099c025e418",
   "metadata": {},
   "source": [
    "- An eccentric alumnus left scholarship money for students in the third decile from the bottom of their class. Determine the range of the third decile. Would a student with a 2.8 grade point average qualify for this scholarship?"
   ]
  },
  {
   "cell_type": "code",
   "execution_count": 18,
   "id": "1426a934-4baa-4283-8fe7-9beca8d80107",
   "metadata": {},
   "outputs": [
    {
     "data": {
      "text/plain": [
       "2.8386513379763243"
      ]
     },
     "execution_count": 18,
     "metadata": {},
     "output_type": "execute_result"
    }
   ],
   "source": [
    "# Experimental\n",
    "np.percentile(grades_sim, 30)"
   ]
  },
  {
   "cell_type": "code",
   "execution_count": 19,
   "id": "9189be2b-0e26-4878-9bc8-3244e8aa154c",
   "metadata": {},
   "outputs": [
    {
     "data": {
      "text/plain": [
       "2.842679846187588"
      ]
     },
     "execution_count": 19,
     "metadata": {},
     "output_type": "execute_result"
    }
   ],
   "source": [
    "# Theoretical\n",
    "# The range is 0.0 - 2.84\n",
    "grades_dist.ppf(0.3)"
   ]
  },
  {
   "cell_type": "markdown",
   "id": "1068322a-653e-4d07-aa7e-39196d8062fc",
   "metadata": {},
   "source": [
    "- If I have a GPA of 3.5, what percentile am I in?"
   ]
  },
  {
   "cell_type": "code",
   "execution_count": 20,
   "id": "2f87bfe9-fdd8-422b-bc61-46e27eb206c5",
   "metadata": {},
   "outputs": [
    {
     "data": {
      "text/plain": [
       "0.0494"
      ]
     },
     "execution_count": 20,
     "metadata": {},
     "output_type": "execute_result"
    }
   ],
   "source": [
    "# Experimental\n",
    "(grades_sim >= 3.5).mean()"
   ]
  },
  {
   "cell_type": "code",
   "execution_count": 21,
   "id": "9d155b30-217e-48c0-8946-471e8b6b044a",
   "metadata": {},
   "outputs": [
    {
     "data": {
      "text/plain": [
       "0.0477903522728147"
      ]
     },
     "execution_count": 21,
     "metadata": {},
     "output_type": "execute_result"
    }
   ],
   "source": [
    "# Theoretical\n",
    "# Top 33%\n",
    "grades_dist.sf(3.5)"
   ]
  },
  {
   "cell_type": "markdown",
   "id": "74a4bdc2-62ef-47b4-a379-951b3e44a4bc",
   "metadata": {},
   "source": [
    "# 3\n",
    "\n",
    "A marketing website has an average click-through rate of 2%. One day they observe 4326 visitors and 97 click-throughs. How likely is it that this many people or more click through?"
   ]
  },
  {
   "cell_type": "code",
   "execution_count": 22,
   "id": "e88bb3c9-151d-4038-aef4-0e6d1b53f981",
   "metadata": {},
   "outputs": [],
   "source": [
    "visitors = 4326\n",
    "click_through_rate = 0.02\n",
    "\n",
    "click_through_dist = stats.binom(visitors, click_through_rate)"
   ]
  },
  {
   "cell_type": "code",
   "execution_count": 23,
   "id": "b59b7e87-41bb-448d-bc5a-1f37439694bd",
   "metadata": {},
   "outputs": [],
   "source": [
    "click_through_sim = click_through_dist.rvs(visitors)"
   ]
  },
  {
   "cell_type": "code",
   "execution_count": 24,
   "id": "3e74ef61-359a-4bdc-a840-7951d8895645",
   "metadata": {},
   "outputs": [
    {
     "data": {
      "text/plain": [
       "0.1398520573277855"
      ]
     },
     "execution_count": 24,
     "metadata": {},
     "output_type": "execute_result"
    }
   ],
   "source": [
    "# Experimental\n",
    "(click_through_sim >= 97).mean()"
   ]
  },
  {
   "cell_type": "code",
   "execution_count": 25,
   "id": "e8e79b6f-13d0-4524-a58d-cddf8a0f8a21",
   "metadata": {},
   "outputs": [
    {
     "data": {
      "text/plain": [
       "0.13975823631416445"
      ]
     },
     "execution_count": 25,
     "metadata": {},
     "output_type": "execute_result"
    }
   ],
   "source": [
    "# Theoretical\n",
    "click_through_dist.sf(96)"
   ]
  },
  {
   "cell_type": "markdown",
   "id": "71bc450b-ef2c-47d5-ab58-5a2a02e85d6b",
   "metadata": {},
   "source": [
    "# 4\n",
    "\n",
    "You are working on some statistics homework consisting of 100 questions where all of the answers are a probability rounded to the hundreths place. Looking to save time, you put down random probabilities as the answer to each question.\n",
    "\n",
    "- What is the probability that at least one of your first 60 answers is correct?"
   ]
  },
  {
   "cell_type": "code",
   "execution_count": 37,
   "id": "54e07eca-b39a-4aea-8cce-1018d222b024",
   "metadata": {},
   "outputs": [],
   "source": [
    "chance_of_correct_guess = 1 / 10_000\n",
    "questions = 60\n",
    "\n",
    "answers_dist = stats.binom(questions, chance_of_correct_guess)"
   ]
  },
  {
   "cell_type": "code",
   "execution_count": 34,
   "id": "6f8bf577-fa89-4c85-b7bc-ff61b3262d93",
   "metadata": {},
   "outputs": [],
   "source": [
    "answers_sim = answers_dist.rvs(n_trials)"
   ]
  },
  {
   "cell_type": "code",
   "execution_count": 35,
   "id": "0b414e85-3950-4239-9d2e-11066e5f53d1",
   "metadata": {},
   "outputs": [
    {
     "data": {
      "text/plain": [
       "0.006"
      ]
     },
     "execution_count": 35,
     "metadata": {},
     "output_type": "execute_result"
    }
   ],
   "source": [
    "# Experimental\n",
    "(answers_sim >= 1).mean()"
   ]
  },
  {
   "cell_type": "code",
   "execution_count": 36,
   "id": "d68c6d3d-7a1e-42d8-932a-b5fef732e295",
   "metadata": {},
   "outputs": [
    {
     "data": {
      "text/plain": [
       "0.005982334171291066"
      ]
     },
     "execution_count": 36,
     "metadata": {},
     "output_type": "execute_result"
    }
   ],
   "source": [
    "# Theoretical\n",
    "answers_dist.sf(0)"
   ]
  },
  {
   "cell_type": "markdown",
   "id": "b9178c32-67fa-4f5e-b1dd-22b682f233b9",
   "metadata": {},
   "source": [
    "# 5\n",
    "\n",
    "The codeup staff tends to get upset when the student break area is not cleaned up. Suppose that there's a 3% chance that any one student cleans the break area when they visit it, and, on any given day, about 90% of the 3 active cohorts of 22 students visit the break area. How likely is it that the break area gets cleaned up each day? How likely is it that it goes two days without getting cleaned up? All week?"
   ]
  },
  {
   "cell_type": "code",
   "execution_count": 119,
   "id": "a4cd8a42-c740-48cc-93c3-9d76bd0e7bef",
   "metadata": {},
   "outputs": [
    {
     "data": {
      "image/png": "[encoded data removed]",
      "text/plain": [
       "<Figure size 432x288 with 1 Axes>"
      ]
     },
     "metadata": {
      "needs_background": "light"
     },
     "output_type": "display_data"
    }
   ],
   "source": [
    "chance_of_clean_break_area = 0.03\n",
    "students_that_visit_break_area = int(0.9 * (3 * 22))\n",
    "\n",
    "clean_break_area_dist = stats.binom(students_that_visit_break_area, chance_of_clean_break_area)\n",
    "\n",
    "x = range(10)\n",
    "y = clean_break_area_dist.pmf(x)\n",
    "plt.bar(x, y, edgecolor='black', color='teal', width=1);"
   ]
  },
  {
   "cell_type": "code",
   "execution_count": 60,
   "id": "490a6113-456d-498a-bbe9-6135ecb4d00f",
   "metadata": {},
   "outputs": [
    {
     "data": {
      "text/plain": [
       "0.8288"
      ]
     },
     "execution_count": 60,
     "metadata": {},
     "output_type": "execute_result"
    }
   ],
   "source": [
    "# Probability of break area getting cleaned on any given day\n",
    "clean_break_area_sim = clean_break_area_dist.rvs(n_trials)\n",
    "\n",
    "# Experimental\n",
    "(clean_break_area_sim >= 1).mean()"
   ]
  },
  {
   "cell_type": "code",
   "execution_count": 61,
   "id": "ab68426d-4cf0-4cc5-b240-72444c8136ce",
   "metadata": {},
   "outputs": [
    {
     "data": {
      "text/plain": [
       "0.8342199288437352"
      ]
     },
     "execution_count": 61,
     "metadata": {},
     "output_type": "execute_result"
    }
   ],
   "source": [
    "# Theoretical\n",
    "clean_break_area_dist.sf(0)"
   ]
  },
  {
   "cell_type": "code",
   "execution_count": 62,
   "id": "5ccb7618-7e68-4a5d-9266-9b468f09438a",
   "metadata": {},
   "outputs": [
    {
     "data": {
      "text/plain": [
       "0.025699999999999945"
      ]
     },
     "execution_count": 62,
     "metadata": {},
     "output_type": "execute_result"
    }
   ],
   "source": [
    "# Probability of break area goes two days without getting cleaned\n",
    "n_days = 2\n",
    "clean_break_area_sim = clean_break_area_dist.rvs(size = (n_trials, n_days))\n",
    "\n",
    "# Experimental\n",
    "1 - clean_break_area_sim.any(axis = 1).mean()"
   ]
  },
  {
   "cell_type": "code",
   "execution_count": 168,
   "id": "470a6832-5802-44be-a1a8-2b16a127f373",
   "metadata": {},
   "outputs": [
    {
     "data": {
      "text/plain": [
       "0.027483031992576224"
      ]
     },
     "execution_count": 168,
     "metadata": {},
     "output_type": "execute_result"
    }
   ],
   "source": [
    "# Theoretical\n",
    "n_days = 2\n",
    "stats.binom(n_days, clean_break_area_dist.sf(0)).pmf(0)"
   ]
  },
  {
   "cell_type": "code",
   "execution_count": 117,
   "id": "f5704420-8d6f-4439-9025-39157897dd96",
   "metadata": {},
   "outputs": [
    {
     "data": {
      "text/plain": [
       "0.00019999999999997797"
      ]
     },
     "execution_count": 117,
     "metadata": {},
     "output_type": "execute_result"
    }
   ],
   "source": [
    "# Probability of break area not getting cleaned all week\n",
    "n_days = 5\n",
    "clean_break_area_sim = clean_break_area_dist.rvs(size = (n_trials, n_days))\n",
    "\n",
    "# Experimental\n",
    "1 - clean_break_area_sim.any(axis = 1).mean()"
   ]
  },
  {
   "cell_type": "code",
   "execution_count": 171,
   "id": "8bea3b3c-6562-4699-947c-c7d9de304f7a",
   "metadata": {},
   "outputs": [
    {
     "data": {
      "text/plain": [
       "0.00012521651388091348"
      ]
     },
     "execution_count": 171,
     "metadata": {},
     "output_type": "execute_result"
    }
   ],
   "source": [
    "# Theoretical\n",
    "n_days = 5\n",
    "stats.binom(n_days, clean_break_area_dist.sf(0)).pmf(0)"
   ]
  },
  {
   "cell_type": "markdown",
   "id": "fcf50a97-3c8a-4d68-9d8d-4a771eb8f89f",
   "metadata": {},
   "source": [
    "# 6\n",
    "\n",
    "You want to get lunch at La Panaderia, but notice that the line is usually very long at lunchtime. After several weeks of careful observation, you notice that the average number of people in line when your lunch break starts is normally distributed with a mean of 15 and standard deviation of 3. If it takes 2 minutes for each person to order, and 10 minutes from ordering to getting your food, what is the likelihood that you have at least 15 minutes left to eat your food before you have to go back to class? Assume you have one hour for lunch, and ignore travel time to and from La Panaderia."
   ]
  },
  {
   "cell_type": "code",
   "execution_count": 66,
   "id": "a5111b67-49a5-4dd1-9378-d39e95ec6e19",
   "metadata": {},
   "outputs": [],
   "source": [
    "time_per_order =  2\n",
    "time_to_get_food = 10\n",
    "time_for_lunch = 60\n",
    "time_remaining = 15\n",
    "\n",
    "avg_line = 15\n",
    "std_dev = 3\n",
    "\n",
    "line_dist = stats.norm(avg_line, std_dev)"
   ]
  },
  {
   "cell_type": "code",
   "execution_count": 73,
   "id": "c65e0dc8-3e6d-4ae6-8d35-fd39f24370e3",
   "metadata": {},
   "outputs": [],
   "source": [
    "line_sim = line_dist.rvs(n_trials)"
   ]
  },
  {
   "cell_type": "code",
   "execution_count": 70,
   "id": "3a52bb16-c785-465e-bd27-f6d6cd890643",
   "metadata": {},
   "outputs": [],
   "source": [
    "max_line_length = int((time_for_lunch - time_remaining - time_to_get_food) / 2)"
   ]
  },
  {
   "cell_type": "code",
   "execution_count": 74,
   "id": "a5aaeee4-038a-40e2-a0c4-0a29a02b2fcf",
   "metadata": {},
   "outputs": [
    {
     "data": {
      "text/plain": [
       "0.7438"
      ]
     },
     "execution_count": 74,
     "metadata": {},
     "output_type": "execute_result"
    }
   ],
   "source": [
    "# Experimental\n",
    "(line_sim <= max_line_length).mean()"
   ]
  },
  {
   "cell_type": "code",
   "execution_count": 72,
   "id": "da23d55d-cf4a-4900-90e2-1f61bcb9ac10",
   "metadata": {},
   "outputs": [
    {
     "data": {
      "text/plain": [
       "0.7475074624530771"
      ]
     },
     "execution_count": 72,
     "metadata": {},
     "output_type": "execute_result"
    }
   ],
   "source": [
    "# Theoretical\n",
    "line_dist.cdf(17)"
   ]
  },
  {
   "cell_type": "markdown",
   "id": "9347fba1-fdfd-44f0-8008-9fa580980b78",
   "metadata": {},
   "source": [
    "# 7\n",
    "\n",
    "Connect to the employees database and find the average salary of current employees, along with the standard deviation. For the following questions, calculate the answer based on modeling the employees salaries with a normal distribution defined by the calculated mean and standard deviation then compare this answer to the actual values present in the salaries dataset."
   ]
  },
  {
   "cell_type": "code",
   "execution_count": 92,
   "id": "147363f9-fc9e-4442-8841-afcbe0ea812b",
   "metadata": {},
   "outputs": [],
   "source": [
    "sql = '''\n",
    "SELECT\n",
    "    emp_no,\n",
    "    salary\n",
    "FROM salaries\n",
    "WHERE to_date > NOW();\n",
    "'''\n",
    "\n",
    "salaries = pd.read_sql(sql, get_db_url('employees'))"
   ]
  },
  {
   "cell_type": "code",
   "execution_count": 88,
   "id": "1d73cf6b-0aed-4188-8531-00bd84f07775",
   "metadata": {},
   "outputs": [],
   "source": [
    "avg_salary = salaries.salary.mean()\n",
    "std_dev = salaries.salary.std()\n",
    "\n",
    "total_employees = salaries.shape[0]"
   ]
  },
  {
   "cell_type": "code",
   "execution_count": 84,
   "id": "5be5df11-c4bd-43f9-b983-6d6348c78580",
   "metadata": {},
   "outputs": [],
   "source": [
    "salary_dist = stats.norm(avg_salary, std_dev)"
   ]
  },
  {
   "cell_type": "markdown",
   "id": "45d96e96-58d1-4bd6-841e-32cc8770784b",
   "metadata": {},
   "source": [
    "- What percent of employees earn less than 60,000?"
   ]
  },
  {
   "cell_type": "code",
   "execution_count": 86,
   "id": "c0d768d3-bc7a-41a9-99c2-01de641c3961",
   "metadata": {},
   "outputs": [
    {
     "data": {
      "text/plain": [
       "0.24385742480214423"
      ]
     },
     "execution_count": 86,
     "metadata": {},
     "output_type": "execute_result"
    }
   ],
   "source": [
    "# Theoretical\n",
    "salary_dist.cdf(60_000)"
   ]
  },
  {
   "cell_type": "code",
   "execution_count": 91,
   "id": "af6e605d-1d50-4ba9-af1c-2dde100c2401",
   "metadata": {},
   "outputs": [
    {
     "data": {
      "text/plain": [
       "0.2705727041028802"
      ]
     },
     "execution_count": 91,
     "metadata": {},
     "output_type": "execute_result"
    }
   ],
   "source": [
    "# Actual\n",
    "(salaries.salary < 60_000).sum() / total_employees"
   ]
  },
  {
   "cell_type": "markdown",
   "id": "95f4024b-d04c-4909-8b4e-11d8422d2395",
   "metadata": {},
   "source": [
    "- What percent of employees earn more than 95,000?"
   ]
  },
  {
   "cell_type": "code",
   "execution_count": 93,
   "id": "ac5ee8bc-a1e9-4ad5-95cb-cd0433ea2770",
   "metadata": {},
   "outputs": [
    {
     "data": {
      "text/plain": [
       "0.09208819199804053"
      ]
     },
     "execution_count": 93,
     "metadata": {},
     "output_type": "execute_result"
    }
   ],
   "source": [
    "# Theoretical\n",
    "salary_dist.sf(95_000)"
   ]
  },
  {
   "cell_type": "code",
   "execution_count": 95,
   "id": "c199517d-6d42-4605-a30e-e82dc6d111fa",
   "metadata": {},
   "outputs": [
    {
     "data": {
      "text/plain": [
       "0.1086272092752078"
      ]
     },
     "execution_count": 95,
     "metadata": {},
     "output_type": "execute_result"
    }
   ],
   "source": [
    "# Actual\n",
    "(salaries.salary > 95_000).sum() / total_employees"
   ]
  },
  {
   "cell_type": "markdown",
   "id": "1387b501-e64a-417d-a008-f588a1820d47",
   "metadata": {},
   "source": [
    "- What percent of employees earn between 65,000 and 80,000?"
   ]
  },
  {
   "cell_type": "code",
   "execution_count": 99,
   "id": "e9adfa04-d964-4871-a9bf-6db34b88205c",
   "metadata": {},
   "outputs": [
    {
     "data": {
      "text/plain": [
       "0.3350605685446666"
      ]
     },
     "execution_count": 99,
     "metadata": {},
     "output_type": "execute_result"
    }
   ],
   "source": [
    "# Theoretical\n",
    "salary_dist.cdf(80_000) - salary_dist.cdf(65_000)"
   ]
  },
  {
   "cell_type": "code",
   "execution_count": 98,
   "id": "39fb8ca8-c487-4072-9d85-00fc41804f5a",
   "metadata": {},
   "outputs": [
    {
     "data": {
      "text/plain": [
       "0.32515700221552196"
      ]
     },
     "execution_count": 98,
     "metadata": {},
     "output_type": "execute_result"
    }
   ],
   "source": [
    "# Actual\n",
    "(salaries.salary.between(65_000, 80_000)).sum() / total_employees"
   ]
  },
  {
   "cell_type": "markdown",
   "id": "4ee95e73-9ba7-46f4-ba9b-35d35321b87a",
   "metadata": {},
   "source": [
    "- What do the top 5% of employees make?"
   ]
  },
  {
   "cell_type": "code",
   "execution_count": 100,
   "id": "7cd92c1e-ea73-4aff-8f56-2420af2eaa62",
   "metadata": {},
   "outputs": [
    {
     "data": {
      "text/plain": [
       "100484.64454102777"
      ]
     },
     "execution_count": 100,
     "metadata": {},
     "output_type": "execute_result"
    }
   ],
   "source": [
    "# Theoretical\n",
    "salary_dist.isf(0.05)"
   ]
  },
  {
   "cell_type": "code",
   "execution_count": 101,
   "id": "a5a9dbb8-34b5-45af-a66c-63b23b4a9a47",
   "metadata": {},
   "outputs": [
    {
     "data": {
      "text/plain": [
       "104225.84999999998"
      ]
     },
     "execution_count": 101,
     "metadata": {},
     "output_type": "execute_result"
    }
   ],
   "source": [
    "# Actual\n",
    "np.percentile(salaries.salary, 95)"
   ]
  }
 ],
 "metadata": {
  "kernelspec": {
   "display_name": "Python 3 (ipykernel)",
   "language": "python",
   "name": "python3"
  },
  "language_info": {
   "codemirror_mode": {
    "name": "ipython",
    "version": 3
   },
   "file_extension": ".py",
   "mimetype": "text/x-python",
   "name": "python",
   "nbconvert_exporter": "python",
   "pygments_lexer": "ipython3",
   "version": "3.9.7"
  }
 },
 "nbformat": 4,
 "nbformat_minor": 5
}
