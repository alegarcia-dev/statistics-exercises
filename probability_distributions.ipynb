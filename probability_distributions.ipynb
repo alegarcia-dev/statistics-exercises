{
 "cells": [
  {
   "cell_type": "code",
   "execution_count": 1,
   "id": "6efe37f9-2778-4eca-843e-a8e49a400b34",
   "metadata": {},
   "outputs": [],
   "source": [
    "import pandas as pd\n",
    "import numpy as np\n",
    "import matplotlib.pyplot as plt\n",
    "import seaborn as sns\n",
    "from scipy import stats"
   ]
  },
  {
   "cell_type": "code",
   "execution_count": 2,
   "id": "e07e7eac-b060-49e5-909a-85243af3af64",
   "metadata": {},
   "outputs": [],
   "source": [
    "from env import get_db_url"
   ]
  },
  {
   "cell_type": "code",
   "execution_count": 3,
   "id": "47d7fb99-8119-44cc-a203-c68b904931ae",
   "metadata": {},
   "outputs": [],
   "source": [
    "n_trials = 10000\n",
    "np.random.seed(24)"
   ]
  },
  {
   "cell_type": "markdown",
   "id": "d2319931-89fe-4bfb-a2b4-8a33cc99414d",
   "metadata": {},
   "source": [
    "# 1\n",
    "\n",
    "A bank found that the average number of cars waiting during the noon hour at a drive-up window follows a Poisson distribution with a mean of 2 cars. Make a chart of this distribution and answer these questions concerning the probability of cars waiting at the drive-up window."
   ]
  },
  {
   "cell_type": "code",
   "execution_count": 4,
   "id": "da8748dc-8cee-4359-a07d-dc8e8dfc94a2",
   "metadata": {},
   "outputs": [
    {
     "data": {
      "image/png": "[encoded data removed]",
      "text/plain": [
       "<Figure size 432x288 with 1 Axes>"
      ]
     },
     "metadata": {
      "needs_background": "light"
     },
     "output_type": "display_data"
    }
   ],
   "source": [
    "dist = stats.poisson(2)\n",
    "x = range(10)\n",
    "y = dist.pmf(x)\n",
    "plt.bar(x, y, edgecolor='black', color='teal', width=1);"
   ]
  },
  {
   "cell_type": "code",
   "execution_count": 5,
   "id": "e1a3b3c6-a46d-42e5-b503-088671eaea7f",
   "metadata": {},
   "outputs": [],
   "source": [
    "num_of_cars = np.array(dist.rvs(n_trials))"
   ]
  },
  {
   "cell_type": "markdown",
   "id": "9290c331-fcfc-492c-b00e-5ba7b9a6da1d",
   "metadata": {},
   "source": [
    "- What is the probability that no cars drive up in the noon hour?"
   ]
  },
  {
   "cell_type": "code",
   "execution_count": 6,
   "id": "cef854de-bd9c-49be-8766-0d5ced0f4eed",
   "metadata": {},
   "outputs": [
    {
     "data": {
      "text/plain": [
       "0.138"
      ]
     },
     "execution_count": 6,
     "metadata": {},
     "output_type": "execute_result"
    }
   ],
   "source": [
    "# Experimental\n",
    "(num_of_cars == 0).mean()"
   ]
  },
  {
   "cell_type": "code",
   "execution_count": 7,
   "id": "8684f21f-0a65-4753-89cb-4a2fe8ab7533",
   "metadata": {},
   "outputs": [
    {
     "data": {
      "text/plain": [
       "0.1353352832366127"
      ]
     },
     "execution_count": 7,
     "metadata": {},
     "output_type": "execute_result"
    }
   ],
   "source": [
    "# Theoretical\n",
    "dist.pmf(0)"
   ]
  },
  {
   "cell_type": "markdown",
   "id": "0ffa4c40-330f-47e6-8543-21ae6e6e8848",
   "metadata": {},
   "source": [
    "- What is the probability that 3 or more cars come through the drive through?"
   ]
  },
  {
   "cell_type": "code",
   "execution_count": 8,
   "id": "a73f896b-8979-48b0-a80d-a80fb3acd603",
   "metadata": {},
   "outputs": [
    {
     "data": {
      "text/plain": [
       "0.3212"
      ]
     },
     "execution_count": 8,
     "metadata": {},
     "output_type": "execute_result"
    }
   ],
   "source": [
    "# Experimental\n",
    "(num_of_cars >= 3).mean()"
   ]
  },
  {
   "cell_type": "code",
   "execution_count": 9,
   "id": "19973ad9-76be-4145-9ec3-fd4101ba8d13",
   "metadata": {},
   "outputs": [
    {
     "data": {
      "text/plain": [
       "0.32332358381693654"
      ]
     },
     "execution_count": 9,
     "metadata": {},
     "output_type": "execute_result"
    }
   ],
   "source": [
    "# Theoretical\n",
    "dist.sf(2)"
   ]
  },
  {
   "cell_type": "markdown",
   "id": "4107f8e2-1df0-4355-9271-58fa118b17c8",
   "metadata": {},
   "source": [
    "- How likely is it that the drive through gets at least 1 car?"
   ]
  },
  {
   "cell_type": "code",
   "execution_count": 10,
   "id": "4f084b6c-7c63-4b5d-8cf1-e55ee9605227",
   "metadata": {},
   "outputs": [
    {
     "data": {
      "text/plain": [
       "0.862"
      ]
     },
     "execution_count": 10,
     "metadata": {},
     "output_type": "execute_result"
    }
   ],
   "source": [
    "# Experimental\n",
    "(num_of_cars > 0).mean()"
   ]
  },
  {
   "cell_type": "code",
   "execution_count": 11,
   "id": "cc3b639a-218c-4b38-b647-3f1636d62c63",
   "metadata": {},
   "outputs": [
    {
     "data": {
      "text/plain": [
       "0.8646647167633873"
      ]
     },
     "execution_count": 11,
     "metadata": {},
     "output_type": "execute_result"
    }
   ],
   "source": [
    "# Theoretical\n",
    "dist.sf(0)"
   ]
  },
  {
   "cell_type": "markdown",
   "id": "b2efbbef-9115-4d5b-afa5-a53b2f6858c3",
   "metadata": {},
   "source": [
    "# 2\n",
    "\n",
    "Grades of State University graduates are normally distributed with a mean of 3.0 and a standard deviation of .3. Calculate the following:"
   ]
  },
  {
   "cell_type": "code",
   "execution_count": 12,
   "id": "b720888e-0e2a-445a-8973-d002882bd577",
   "metadata": {},
   "outputs": [],
   "source": [
    "grades_dist = stats.norm(3.0, 0.3)"
   ]
  },
  {
   "cell_type": "code",
   "execution_count": 13,
   "id": "f6353007-ee16-4894-82a7-6210cb8f7960",
   "metadata": {},
   "outputs": [],
   "source": [
    "grades_sim = grades_dist.rvs(n_trials)"
   ]
  },
  {
   "cell_type": "markdown",
   "id": "9e1296ff-f634-4c93-ae3e-71c6430a2b7f",
   "metadata": {},
   "source": [
    "- What grade point average is required to be in the top 5% of the graduating class?"
   ]
  },
  {
   "cell_type": "code",
   "execution_count": 14,
   "id": "e3c3da51-b23d-437a-ba88-82588e4ed76e",
   "metadata": {},
   "outputs": [
    {
     "data": {
      "text/plain": [
       "3.4984462616594385"
      ]
     },
     "execution_count": 14,
     "metadata": {},
     "output_type": "execute_result"
    }
   ],
   "source": [
    "# Experimental\n",
    "np.percentile(grades_sim, 95)"
   ]
  },
  {
   "cell_type": "code",
   "execution_count": 15,
   "id": "74af1b22-845f-4e98-b6a8-8218e1678bb9",
   "metadata": {},
   "outputs": [
    {
     "data": {
      "text/plain": [
       "3.4934560880854417"
      ]
     },
     "execution_count": 15,
     "metadata": {},
     "output_type": "execute_result"
    }
   ],
   "source": [
    "# Theoretical\n",
    "grades_dist.isf(0.05)"
   ]
  },
  {
   "cell_type": "markdown",
   "id": "dd1625fa-ae1d-4f6e-b708-589644cd4673",
   "metadata": {},
   "source": [
    "- What GPA constitutes the bottom 15% of the class?"
   ]
  },
  {
   "cell_type": "code",
   "execution_count": 16,
   "id": "c917b8eb-56dd-4054-adbd-87892d5284f2",
   "metadata": {},
   "outputs": [
    {
     "data": {
      "text/plain": [
       "2.6780320346656667"
      ]
     },
     "execution_count": 16,
     "metadata": {},
     "output_type": "execute_result"
    }
   ],
   "source": [
    "# Experimental\n",
    "np.percentile(grades_sim, 15)"
   ]
  },
  {
   "cell_type": "code",
   "execution_count": 17,
   "id": "632e85c8-3750-4318-b8c0-e036240fe731",
   "metadata": {},
   "outputs": [
    {
     "data": {
      "text/plain": [
       "2.689069983151863"
      ]
     },
     "execution_count": 17,
     "metadata": {},
     "output_type": "execute_result"
    }
   ],
   "source": [
    "# Theoretical\n",
    "grades_dist.ppf(0.15)"
   ]
  },
  {
   "cell_type": "markdown",
   "id": "ae0afe5d-0be1-43c3-b525-a099c025e418",
   "metadata": {},
   "source": [
    "- An eccentric alumnus left scholarship money for students in the third decile from the bottom of their class. Determine the range of the third decile. Would a student with a 2.8 grade point average qualify for this scholarship?"
   ]
  },
  {
   "cell_type": "code",
   "execution_count": 18,
   "id": "1426a934-4baa-4283-8fe7-9beca8d80107",
   "metadata": {},
   "outputs": [
    {
     "data": {
      "text/plain": [
       "2.8386513379763243"
      ]
     },
     "execution_count": 18,
     "metadata": {},
     "output_type": "execute_result"
    }
   ],
   "source": [
    "# Experimental\n",
    "np.percentile(grades_sim, 30)"
   ]
  },
  {
   "cell_type": "code",
   "execution_count": 19,
   "id": "9189be2b-0e26-4878-9bc8-3244e8aa154c",
   "metadata": {},
   "outputs": [
    {
     "data": {
      "text/plain": [
       "2.842679846187588"
      ]
     },
     "execution_count": 19,
     "metadata": {},
     "output_type": "execute_result"
    }
   ],
   "source": [
    "# Theoretical\n",
    "# The range is 0.0 - 2.84\n",
    "grades_dist.ppf(0.3)"
   ]
  },
  {
   "cell_type": "markdown",
   "id": "1068322a-653e-4d07-aa7e-39196d8062fc",
   "metadata": {},
   "source": [
    "- If I have a GPA of 3.5, what percentile am I in?"
   ]
  },
  {
   "cell_type": "code",
   "execution_count": 22,
   "id": "2f87bfe9-fdd8-422b-bc61-46e27eb206c5",
   "metadata": {},
   "outputs": [
    {
     "data": {
      "text/plain": [
       "0.0494"
      ]
     },
     "execution_count": 22,
     "metadata": {},
     "output_type": "execute_result"
    }
   ],
   "source": [
    "# Experimental\n",
    "(grades_sim >= 3.5).mean()"
   ]
  },
  {
   "cell_type": "code",
   "execution_count": 23,
   "id": "9d155b30-217e-48c0-8946-471e8b6b044a",
   "metadata": {},
   "outputs": [
    {
     "data": {
      "text/plain": [
       "0.0477903522728147"
      ]
     },
     "execution_count": 23,
     "metadata": {},
     "output_type": "execute_result"
    }
   ],
   "source": [
    "# Theoretical\n",
    "# Top 33%\n",
    "grades_dist.sf(3.5)"
   ]
  },
  {
   "cell_type": "markdown",
   "id": "74a4bdc2-62ef-47b4-a379-951b3e44a4bc",
   "metadata": {},
   "source": [
    "# 3\n",
    "\n",
    "A marketing website has an average click-through rate of 2%. One day they observe 4326 visitors and 97 click-throughs. How likely is it that this many people or more click through?"
   ]
  },
  {
   "cell_type": "code",
   "execution_count": 35,
   "id": "e88bb3c9-151d-4038-aef4-0e6d1b53f981",
   "metadata": {},
   "outputs": [],
   "source": [
    "n_trials = 4326\n",
    "click_through_rate = 0.02\n",
    "\n",
    "click_through_dist = stats.binom(n_trials, click_through_rate)"
   ]
  },
  {
   "cell_type": "code",
   "execution_count": 40,
   "id": "b59b7e87-41bb-448d-bc5a-1f37439694bd",
   "metadata": {},
   "outputs": [],
   "source": [
    "click_through_sim = click_through_dist.rvs(n_trials)"
   ]
  },
  {
   "cell_type": "code",
   "execution_count": 41,
   "id": "3e74ef61-359a-4bdc-a840-7951d8895645",
   "metadata": {},
   "outputs": [
    {
     "data": {
      "text/plain": [
       "0.13754045307443366"
      ]
     },
     "execution_count": 41,
     "metadata": {},
     "output_type": "execute_result"
    }
   ],
   "source": [
    "# Experimental\n",
    "(click_through_sim >= 97).mean()"
   ]
  },
  {
   "cell_type": "code",
   "execution_count": 42,
   "id": "e8e79b6f-13d0-4524-a58d-cddf8a0f8a21",
   "metadata": {},
   "outputs": [
    {
     "data": {
      "text/plain": [
       "0.13975823631416445"
      ]
     },
     "execution_count": 42,
     "metadata": {},
     "output_type": "execute_result"
    }
   ],
   "source": [
    "# Theoretical\n",
    "click_through_dist.sf(96)"
   ]
  },
  {
   "cell_type": "markdown",
   "id": "71bc450b-ef2c-47d5-ab58-5a2a02e85d6b",
   "metadata": {},
   "source": [
    "# 4\n",
    "\n",
    "You are working on some statistics homework consisting of 100 questions where all of the answers are a probability rounded to the hundreths place. Looking to save time, you put down random probabilities as the answer to each question.\n",
    "\n",
    "- What is the probability that at least one of your first 60 answers is correct?"
   ]
  },
  {
   "cell_type": "code",
   "execution_count": null,
   "id": "54e07eca-b39a-4aea-8cce-1018d222b024",
   "metadata": {},
   "outputs": [],
   "source": []
  }
 ],
 "metadata": {
  "kernelspec": {
   "display_name": "Python 3 (ipykernel)",
   "language": "python",
   "name": "python3"
  },
  "language_info": {
   "codemirror_mode": {
    "name": "ipython",
    "version": 3
   },
   "file_extension": ".py",
   "mimetype": "text/x-python",
   "name": "python",
   "nbconvert_exporter": "python",
   "pygments_lexer": "ipython3",
   "version": "3.9.7"
  }
 },
 "nbformat": 4,
 "nbformat_minor": 5
}
