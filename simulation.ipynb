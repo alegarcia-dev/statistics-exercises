{
 "cells": [
  {
   "cell_type": "code",
   "execution_count": 63,
   "id": "7a0a1e9a-dc8a-46df-9b9a-70ac4434af45",
   "metadata": {},
   "outputs": [],
   "source": [
    "import pandas as pd\n",
    "import numpy as np\n",
    "import matplotlib.pyplot as plt\n",
    "import seaborn as sns"
   ]
  },
  {
   "cell_type": "code",
   "execution_count": 2,
   "id": "e036b0a3-433c-489a-9fde-e6d76b5feba8",
   "metadata": {},
   "outputs": [],
   "source": [
    "n_trials = 10000"
   ]
  },
  {
   "cell_type": "code",
   "execution_count": 3,
   "id": "ddb86656-d9b8-40bf-ade7-6c1fabcd103d",
   "metadata": {},
   "outputs": [],
   "source": [
    "np.random.seed(24)"
   ]
  },
  {
   "cell_type": "markdown",
   "id": "811e7797-06e3-4297-9c9c-eedfb8448904",
   "metadata": {},
   "source": [
    "# 1\n",
    "\n",
    "How likely is it that you roll doubles when rolling two dice?"
   ]
  },
  {
   "cell_type": "code",
   "execution_count": 4,
   "id": "c67941d8-ad6b-48f8-b7dc-730221a569aa",
   "metadata": {},
   "outputs": [
    {
     "data": {
      "text/html": [
       "<div>\n",
       "<style scoped>\n",
       "    .dataframe tbody tr th:only-of-type {\n",
       "        vertical-align: middle;\n",
       "    }\n",
       "\n",
       "    .dataframe tbody tr th {\n",
       "        vertical-align: top;\n",
       "    }\n",
       "\n",
       "    .dataframe thead th {\n",
       "        text-align: right;\n",
       "    }\n",
       "</style>\n",
       "<table border=\"1\" class=\"dataframe\">\n",
       "  <thead>\n",
       "    <tr style=\"text-align: right;\">\n",
       "      <th></th>\n",
       "      <th>0</th>\n",
       "      <th>1</th>\n",
       "    </tr>\n",
       "  </thead>\n",
       "  <tbody>\n",
       "    <tr>\n",
       "      <th>0</th>\n",
       "      <td>3</td>\n",
       "      <td>4</td>\n",
       "    </tr>\n",
       "    <tr>\n",
       "      <th>1</th>\n",
       "      <td>1</td>\n",
       "      <td>2</td>\n",
       "    </tr>\n",
       "    <tr>\n",
       "      <th>2</th>\n",
       "      <td>2</td>\n",
       "      <td>2</td>\n",
       "    </tr>\n",
       "    <tr>\n",
       "      <th>3</th>\n",
       "      <td>5</td>\n",
       "      <td>4</td>\n",
       "    </tr>\n",
       "    <tr>\n",
       "      <th>4</th>\n",
       "      <td>5</td>\n",
       "      <td>4</td>\n",
       "    </tr>\n",
       "    <tr>\n",
       "      <th>...</th>\n",
       "      <td>...</td>\n",
       "      <td>...</td>\n",
       "    </tr>\n",
       "    <tr>\n",
       "      <th>9995</th>\n",
       "      <td>3</td>\n",
       "      <td>2</td>\n",
       "    </tr>\n",
       "    <tr>\n",
       "      <th>9996</th>\n",
       "      <td>4</td>\n",
       "      <td>6</td>\n",
       "    </tr>\n",
       "    <tr>\n",
       "      <th>9997</th>\n",
       "      <td>2</td>\n",
       "      <td>6</td>\n",
       "    </tr>\n",
       "    <tr>\n",
       "      <th>9998</th>\n",
       "      <td>3</td>\n",
       "      <td>6</td>\n",
       "    </tr>\n",
       "    <tr>\n",
       "      <th>9999</th>\n",
       "      <td>3</td>\n",
       "      <td>5</td>\n",
       "    </tr>\n",
       "  </tbody>\n",
       "</table>\n",
       "<p>10000 rows × 2 columns</p>\n",
       "</div>"
      ],
      "text/plain": [
       "      0  1\n",
       "0     3  4\n",
       "1     1  2\n",
       "2     2  2\n",
       "3     5  4\n",
       "4     5  4\n",
       "...  .. ..\n",
       "9995  3  2\n",
       "9996  4  6\n",
       "9997  2  6\n",
       "9998  3  6\n",
       "9999  3  5\n",
       "\n",
       "[10000 rows x 2 columns]"
      ]
     },
     "execution_count": 4,
     "metadata": {},
     "output_type": "execute_result"
    }
   ],
   "source": [
    "n_dice = 2\n",
    "\n",
    "# roll two six sided dice n_trials times\n",
    "rolls = pd.DataFrame(np.random.randint(1, 7, size = (n_trials, n_dice)))\n",
    "rolls"
   ]
  },
  {
   "cell_type": "code",
   "execution_count": 5,
   "id": "f3384744-f1a5-4d01-8515-a0cc4d69d7aa",
   "metadata": {},
   "outputs": [
    {
     "data": {
      "text/plain": [
       "0.1682"
      ]
     },
     "execution_count": 5,
     "metadata": {},
     "output_type": "execute_result"
    }
   ],
   "source": [
    "# for each row check if the first die and second are the same value\n",
    "doubles = rolls.apply(lambda row: row[0] == row[1], axis = 1)\n",
    "doubles.mean()"
   ]
  },
  {
   "cell_type": "markdown",
   "id": "35c004c9-d315-4d94-9e9b-760a5202282a",
   "metadata": {},
   "source": [
    "# 2\n",
    "\n",
    "If you flip 8 coins, what is the probability of getting exactly 3 heads? What is the probability of getting more than 3 heads?"
   ]
  },
  {
   "cell_type": "code",
   "execution_count": 6,
   "id": "a4ed84df-578a-448f-a36b-88f4d2cd0ee3",
   "metadata": {},
   "outputs": [
    {
     "data": {
      "text/plain": [
       "array([[1, 0, 1, ..., 0, 0, 1],\n",
       "       [1, 0, 1, ..., 0, 1, 1],\n",
       "       [0, 1, 0, ..., 1, 1, 0],\n",
       "       ...,\n",
       "       [1, 0, 1, ..., 0, 0, 1],\n",
       "       [1, 1, 0, ..., 0, 1, 0],\n",
       "       [0, 1, 0, ..., 1, 0, 1]])"
      ]
     },
     "execution_count": 6,
     "metadata": {},
     "output_type": "execute_result"
    }
   ],
   "source": [
    "n_coins = 8\n",
    "\n",
    "# flip 8 coins n_trials times, 1 is heads, 0 is tails\n",
    "coin_flips = np.random.choice([1, 0], size = (n_trials, n_coins))\n",
    "coin_flips"
   ]
  },
  {
   "cell_type": "code",
   "execution_count": 7,
   "id": "7f21ced5-bbcc-4cf0-9224-9e286d631f35",
   "metadata": {},
   "outputs": [
    {
     "data": {
      "text/plain": [
       "0.2169"
      ]
     },
     "execution_count": 7,
     "metadata": {},
     "output_type": "execute_result"
    }
   ],
   "source": [
    "# sum each row to determine the number of heads flipped\n",
    "exactly_three_heads = coin_flips.sum(axis = 1) == 3\n",
    "exactly_three_heads.mean()"
   ]
  },
  {
   "cell_type": "code",
   "execution_count": 8,
   "id": "f8e3c3db-11bb-40db-8f99-93c34d0b8c4b",
   "metadata": {},
   "outputs": [
    {
     "data": {
      "text/plain": [
       "0.6376"
      ]
     },
     "execution_count": 8,
     "metadata": {},
     "output_type": "execute_result"
    }
   ],
   "source": [
    "more_than_three_heads = coin_flips.sum(axis = 1) > 3\n",
    "more_than_three_heads.mean()"
   ]
  },
  {
   "cell_type": "markdown",
   "id": "909c6b4e-fcd3-402c-9b47-15e6f419e0c0",
   "metadata": {},
   "source": [
    "# 3\n",
    "\n",
    "There are approximitely 3 web development cohorts for every 1 data science cohort at Codeup. Assuming that Codeup randomly selects an alumni to put on a billboard, what are the odds that the two billboards I drive past both have data science students on them?"
   ]
  },
  {
   "cell_type": "code",
   "execution_count": 9,
   "id": "75e18093-f529-4338-b11d-7f9b1d8f17c8",
   "metadata": {},
   "outputs": [
    {
     "data": {
      "text/plain": [
       "array([[0, 0],\n",
       "       [0, 0],\n",
       "       [0, 1],\n",
       "       ...,\n",
       "       [1, 1],\n",
       "       [0, 0],\n",
       "       [0, 0]])"
      ]
     },
     "execution_count": 9,
     "metadata": {},
     "output_type": "execute_result"
    }
   ],
   "source": [
    "n_billboards = 2\n",
    "\n",
    "# generate two billboards n_trials times, 1 is data science, 0 is web dev\n",
    "billboards = np.random.choice([1, 0, 0, 0], size = (n_trials, n_billboards))\n",
    "billboards"
   ]
  },
  {
   "cell_type": "code",
   "execution_count": 10,
   "id": "b297a1c3-6838-419a-bfd6-b24c1e607b2f",
   "metadata": {},
   "outputs": [
    {
     "data": {
      "text/plain": [
       "0.0636"
      ]
     },
     "execution_count": 10,
     "metadata": {},
     "output_type": "execute_result"
    }
   ],
   "source": [
    "both_data_science = billboards.sum(axis = 1) == 2\n",
    "both_data_science.mean()"
   ]
  },
  {
   "cell_type": "markdown",
   "id": "162300da-8ad6-43bf-b637-63591d07f1dd",
   "metadata": {},
   "source": [
    "# 4\n",
    "\n",
    "Codeup students buy, on average, 3 poptart packages with a standard deviation of 1.5 a day from the snack vending machine. If on monday the machine is restocked with 17 poptart packages, how likely is it that I will be able to buy some poptarts on Friday afternoon? (Remember, if you have mean and standard deviation, use the np.random.normal)"
   ]
  },
  {
   "cell_type": "code",
   "execution_count": 11,
   "id": "0422ed5d-5a1f-4098-acfa-6f01ffd5aba3",
   "metadata": {},
   "outputs": [
    {
     "data": {
      "text/plain": [
       "array([[3.85160967, 4.1770012 , 2.59854764, 2.09698362],\n",
       "       [1.35416768, 4.76311892, 2.46677301, 3.97390298],\n",
       "       [5.38411496, 2.85234855, 3.92069361, 2.64337043],\n",
       "       ...,\n",
       "       [2.50923438, 3.29249941, 3.86542271, 3.56482083],\n",
       "       [2.58388827, 2.6554977 , 3.91222369, 2.68385097],\n",
       "       [1.91517864, 3.75410944, 2.46106272, 0.84821296]])"
      ]
     },
     "execution_count": 11,
     "metadata": {},
     "output_type": "execute_result"
    }
   ],
   "source": [
    "n_poptarts_restocked = 17\n",
    "avg_poptarts_purchased = 3\n",
    "std_dev = 1.5\n",
    "\n",
    "# Not including Friday\n",
    "n_days = 4\n",
    "\n",
    "# generate poptart sells for four days n_trials times\n",
    "poptarts = np.random.normal(avg_poptarts_purchased, std_dev, size = (n_trials, n_days))\n",
    "poptarts"
   ]
  },
  {
   "cell_type": "code",
   "execution_count": 12,
   "id": "8404ccf8-3d49-4c01-b2fe-61ad96182084",
   "metadata": {},
   "outputs": [
    {
     "data": {
      "text/plain": [
       "0.9098"
      ]
     },
     "execution_count": 12,
     "metadata": {},
     "output_type": "execute_result"
    }
   ],
   "source": [
    "# determine how often there is at least one poptart remaining\n",
    "at_least_one_poptart_remaining = poptarts.sum(axis = 1) <= n_poptarts_restocked - 1\n",
    "at_least_one_poptart_remaining.mean()"
   ]
  },
  {
   "cell_type": "markdown",
   "id": "a7467408-d3fe-4b9d-b843-2100ac7fef93",
   "metadata": {},
   "source": [
    "# 5\n",
    "\n",
    "Compare Heights\n",
    "\n",
    "- Men have an average height of 178 cm and standard deviation of 8cm.\n",
    "- Women have a mean of 170, sd = 6cm.\n",
    "- Since you have means and standard deviations, you can use np.random.normal to generate observations.\n",
    "- If a man and woman are chosen at random, P(woman taller than man)?"
   ]
  },
  {
   "cell_type": "code",
   "execution_count": 13,
   "id": "96b34aba-1a8b-4544-ba55-8c61a2e9e57d",
   "metadata": {},
   "outputs": [],
   "source": [
    "avg_height_men = 178\n",
    "std_dev_men = 8\n",
    "avg_height_women = 170\n",
    "std_dev_women = 6\n",
    "\n",
    "# generate heights for men and women n_trials times\n",
    "heights_of_men = np.random.normal(avg_height_men, std_dev_men, size = n_trials)\n",
    "heights_of_women = np.random.normal(avg_height_women, std_dev_women, size = n_trials)"
   ]
  },
  {
   "cell_type": "code",
   "execution_count": 14,
   "id": "f0f06ef3-c469-48ee-a85e-37476628c08a",
   "metadata": {},
   "outputs": [
    {
     "data": {
      "text/plain": [
       "0.2145"
      ]
     },
     "execution_count": 14,
     "metadata": {},
     "output_type": "execute_result"
    }
   ],
   "source": [
    "# determine the number of times a woman is taller than a man\n",
    "women_taller_than_men = heights_of_women > heights_of_men\n",
    "women_taller_than_men.mean()"
   ]
  },
  {
   "cell_type": "markdown",
   "id": "2dabae02-ed28-42e6-8f03-5b6ec79c271a",
   "metadata": {},
   "source": [
    "# 6\n",
    "\n",
    "When installing anaconda on a student's computer, there's a 1 in 250 chance that the download is corrupted and the installation fails. What are the odds that after having 50 students download anaconda, no one has an installation issue? 100 students?\n",
    "\n",
    "What is the probability that we observe an installation issue within the first 150 students that download anaconda?\n",
    "\n",
    "How likely is it that 450 students all download anaconda without an issue?"
   ]
  },
  {
   "cell_type": "code",
   "execution_count": 15,
   "id": "589ab049-ad5c-4140-9a89-f76f7c08ce5d",
   "metadata": {},
   "outputs": [],
   "source": [
    "# Generate n_students values of 1 or 0 given the probability for a corrupted install\n",
    "# n_trials times. Return the probability that a given student population had no\n",
    "# corrupted installs.\n",
    "def probability_no_corrupted_install(n_students):\n",
    "    p_corrupted_install = 1 / 250\n",
    "    anaconda_installs = np.random.choice([1, 0], \n",
    "                                         p = [p_corrupted_install, 1 - p_corrupted_install], \n",
    "                                         size = (n_trials, n_students))\n",
    "\n",
    "    corrupted_installs = anaconda_installs.sum(axis = 1) == 0\n",
    "    return corrupted_installs.mean()"
   ]
  },
  {
   "cell_type": "code",
   "execution_count": 16,
   "id": "e5f6a8f9-1465-4145-b720-b58ade033d9e",
   "metadata": {},
   "outputs": [
    {
     "data": {
      "text/plain": [
       "0.8196"
      ]
     },
     "execution_count": 16,
     "metadata": {},
     "output_type": "execute_result"
    }
   ],
   "source": [
    "probability_no_corrupted_install(50)"
   ]
  },
  {
   "cell_type": "code",
   "execution_count": 17,
   "id": "dbcbd41b-d988-4190-8494-3c52b082d188",
   "metadata": {},
   "outputs": [
    {
     "data": {
      "text/plain": [
       "0.6667"
      ]
     },
     "execution_count": 17,
     "metadata": {},
     "output_type": "execute_result"
    }
   ],
   "source": [
    "probability_no_corrupted_install(100)"
   ]
  },
  {
   "cell_type": "code",
   "execution_count": 18,
   "id": "2ffef7b7-9712-41bc-8b90-a2b717758f0d",
   "metadata": {},
   "outputs": [
    {
     "data": {
      "text/plain": [
       "0.44789999999999996"
      ]
     },
     "execution_count": 18,
     "metadata": {},
     "output_type": "execute_result"
    }
   ],
   "source": [
    "# Here we need the complement of the probability there are no corrupted installs\n",
    "# in order to get the probability that there is a corrupted install.\n",
    "1 - probability_no_corrupted_install(150)"
   ]
  },
  {
   "cell_type": "code",
   "execution_count": 19,
   "id": "bb014252-7632-43ef-99af-df38ab38ca2e",
   "metadata": {},
   "outputs": [
    {
     "data": {
      "text/plain": [
       "0.1639"
      ]
     },
     "execution_count": 19,
     "metadata": {},
     "output_type": "execute_result"
    }
   ],
   "source": [
    "probability_no_corrupted_install(450)"
   ]
  },
  {
   "cell_type": "markdown",
   "id": "98f99a21-02e8-4d02-ac2b-c6c48156d95b",
   "metadata": {},
   "source": [
    "# 7\n",
    "\n",
    "There's a 70% chance on any given day that there will be at least one food truck at Travis Park. However, you haven't seen a food truck there in 3 days. How unlikely is this?\n",
    "\n",
    "How likely is it that a food truck will show up sometime this week?"
   ]
  },
  {
   "cell_type": "code",
   "execution_count": 20,
   "id": "dd7b512d-ba65-4a50-b7e7-5ff6f9bdd65e",
   "metadata": {},
   "outputs": [],
   "source": [
    "# Return the probability that there will be at least one food truck at Travis Park\n",
    "# within n_days. Generate n_trials number of trials.\n",
    "def prob_at_least_one_food_truck(n_days):\n",
    "    probability = 7 / 10\n",
    "    food_trucks = np.random.choice([1, 0],\n",
    "                                   p = [probability, 1 - probability],\n",
    "                                   size = (n_trials, n_days))\n",
    "    at_least_one_food_truck = food_trucks.sum(axis = 1) >= 1\n",
    "    return at_least_one_food_truck.mean()"
   ]
  },
  {
   "cell_type": "code",
   "execution_count": 21,
   "id": "099e3511-25cb-4b59-b7f0-59b4163417d6",
   "metadata": {},
   "outputs": [
    {
     "data": {
      "text/plain": [
       "0.02959999999999996"
      ]
     },
     "execution_count": 21,
     "metadata": {},
     "output_type": "execute_result"
    }
   ],
   "source": [
    "# Probability there are no food trucks in 3 days\n",
    "1 - prob_at_least_one_food_truck(3)"
   ]
  },
  {
   "cell_type": "code",
   "execution_count": 22,
   "id": "56cf601f-9089-40b9-bf1a-f68da1ea576f",
   "metadata": {},
   "outputs": [
    {
     "data": {
      "text/plain": [
       "0.9997"
      ]
     },
     "execution_count": 22,
     "metadata": {},
     "output_type": "execute_result"
    }
   ],
   "source": [
    "# Probability there is at least 1 food truck in 7 days\n",
    "prob_at_least_one_food_truck(7)"
   ]
  },
  {
   "cell_type": "markdown",
   "id": "e59f996e-0664-41b4-85c0-60d7adff888e",
   "metadata": {},
   "source": [
    "# 8\n",
    "\n",
    "If 23 people are in the same room, what are the odds that two of them share a birthday? What if it's 20 people? 40?"
   ]
  },
  {
   "cell_type": "code",
   "execution_count": 23,
   "id": "6e677f2f-c202-4195-aaa9-87785fb0763d",
   "metadata": {},
   "outputs": [],
   "source": [
    "def prob_at_least_one_shared_birthday(n_people):\n",
    "    birthdays = pd.DataFrame(np.random.randint(0, 365, size = (n_trials, n_people)))\n",
    "    no_shared_birthday = birthdays.apply(lambda row: len(set(row)) == n_people, axis = 1)\n",
    "    return 1 - no_shared_birthday.mean()\n",
    "\n",
    "# def prob_at_least_one_shared_birthday(n_people):\n",
    "#     birthdays = pd.DataFrame(np.random.randint(0, 365, size = (n_trials, n_people)))\n",
    "#     at_least_one_shared_birthday = birthdays.nunique(axis = 1) < n_people\n",
    "#     return at_least_one_shared_birthday.mean()"
   ]
  },
  {
   "cell_type": "code",
   "execution_count": 24,
   "id": "893d1b97-f8e5-4e77-a91b-91f3df3e2fbc",
   "metadata": {},
   "outputs": [
    {
     "data": {
      "text/plain": [
       "0.4969"
      ]
     },
     "execution_count": 24,
     "metadata": {},
     "output_type": "execute_result"
    }
   ],
   "source": [
    "prob_at_least_one_shared_birthday(23)"
   ]
  },
  {
   "cell_type": "code",
   "execution_count": 25,
   "id": "6a5528d2-3fda-47d9-a4ac-85bfec8fbe64",
   "metadata": {},
   "outputs": [
    {
     "data": {
      "text/plain": [
       "0.4113"
      ]
     },
     "execution_count": 25,
     "metadata": {},
     "output_type": "execute_result"
    }
   ],
   "source": [
    "prob_at_least_one_shared_birthday(20)"
   ]
  },
  {
   "cell_type": "code",
   "execution_count": 26,
   "id": "0960150d-3d29-48dc-a55b-825a1a092f61",
   "metadata": {},
   "outputs": [
    {
     "data": {
      "text/plain": [
       "0.8928"
      ]
     },
     "execution_count": 26,
     "metadata": {},
     "output_type": "execute_result"
    }
   ],
   "source": [
    "prob_at_least_one_shared_birthday(40)"
   ]
  },
  {
   "cell_type": "markdown",
   "id": "d12dabf1-1913-4111-920d-0cd122ed4d13",
   "metadata": {},
   "source": [
    "# Mage Duel\n",
    "\n",
    "Simulate mage duels to answer who is the more powerful mage?\n",
    "\n",
    "- Before running simulations, do you have a hypothesis of which mage will win? Do you have a hunch? Write it down. This is your first exercise.\n",
    "\n",
    "I predict the 6d4 mage will win. My hypothesis is that with more dice there is a greater probability that a larger sum will be rolled on any given duel.\n",
    "\n",
    "- Simulate 10 mage duels. Is there a clear winner? Run that 10 duel simulation again. Was the answer similar?\n",
    "- Do the results change much at 100 duels?\n",
    "- Now, simulate 10,000 mage duels. Is there a clear winner?"
   ]
  },
  {
   "cell_type": "code",
   "execution_count": 33,
   "id": "bc48b04b-3f1e-4dcd-bec9-2d2bfccc69ad",
   "metadata": {},
   "outputs": [],
   "source": [
    "def simulate_6d4_rolls(n_trials):\n",
    "    n_dice = 6\n",
    "    max_num = 4\n",
    "    return np.random.randint(1, max_num + 1, size = (n_trials, n_dice)).sum(axis = 1)\n",
    "\n",
    "def simulate_4d6_rolls(n_trials):\n",
    "    n_dice = 4\n",
    "    max_num = 6\n",
    "    return np.random.randint(1, max_num + 1, size = (n_trials, n_dice)).sum(axis = 1)"
   ]
  },
  {
   "cell_type": "code",
   "execution_count": 38,
   "id": "fe1666b1-190c-4d54-91b8-e0f0300469c7",
   "metadata": {},
   "outputs": [],
   "source": [
    "def simulate_duels(n_trials):\n",
    "    mage_6d4 = simulate_6d4_rolls(n_trials)\n",
    "    mage_4d6 = simulate_4d6_rolls(n_trials)\n",
    "\n",
    "    mage_6d4_wins = mage_6d4 > mage_4d6\n",
    "    mage_4d6_wins = mage_4d6 > mage_6d4\n",
    "    ties = mage_6d4 == mage_4d6\n",
    "\n",
    "    print(f'Result of {n_trials} duels')\n",
    "    print(f'6d4 Mage Win Percentage: {mage_6d4_wins.mean()}')\n",
    "    print(f'4d6 Mage Win Percentage: {mage_4d6_wins.mean()}')\n",
    "    print(f'Tie Percentage: {ties.mean()}')"
   ]
  },
  {
   "cell_type": "code",
   "execution_count": 39,
   "id": "30c41f8e-8eb9-484d-bcbb-1d3da4bb652a",
   "metadata": {},
   "outputs": [
    {
     "name": "stdout",
     "output_type": "stream",
     "text": [
      "Result of 10 duels\n",
      "6d4 Mage Win Percentage: 0.5\n",
      "4d6 Mage Win Percentage: 0.5\n",
      "Tie Percentage: 0.0\n"
     ]
    }
   ],
   "source": [
    "simulate_duels(10)"
   ]
  },
  {
   "cell_type": "code",
   "execution_count": 40,
   "id": "9d0c02a1-58db-415c-b91b-106360a9489a",
   "metadata": {},
   "outputs": [
    {
     "name": "stdout",
     "output_type": "stream",
     "text": [
      "Result of 10 duels\n",
      "6d4 Mage Win Percentage: 0.6\n",
      "4d6 Mage Win Percentage: 0.3\n",
      "Tie Percentage: 0.1\n"
     ]
    }
   ],
   "source": [
    "simulate_duels(10)"
   ]
  },
  {
   "cell_type": "code",
   "execution_count": 41,
   "id": "6c511f05-f902-40f0-827c-4e27773bdee2",
   "metadata": {},
   "outputs": [
    {
     "name": "stdout",
     "output_type": "stream",
     "text": [
      "Result of 100 duels\n",
      "6d4 Mage Win Percentage: 0.51\n",
      "4d6 Mage Win Percentage: 0.43\n",
      "Tie Percentage: 0.06\n"
     ]
    }
   ],
   "source": [
    "simulate_duels(100)"
   ]
  },
  {
   "cell_type": "code",
   "execution_count": 42,
   "id": "e7df5689-d57a-4b22-bbad-03c9c6ee100a",
   "metadata": {},
   "outputs": [
    {
     "name": "stdout",
     "output_type": "stream",
     "text": [
      "Result of 10000 duels\n",
      "6d4 Mage Win Percentage: 0.5488\n",
      "4d6 Mage Win Percentage: 0.3671\n",
      "Tie Percentage: 0.0841\n"
     ]
    }
   ],
   "source": [
    "simulate_duels(n_trials)"
   ]
  },
  {
   "cell_type": "markdown",
   "id": "4540e223-5e32-476c-aa30-a03771ebd819",
   "metadata": {},
   "source": [
    "# Chuck A Luck\n",
    "\n",
    "Rules:\n",
    "\n",
    "- The player pays $1 to play and picks a number.\n",
    "\n",
    "- The House rolls 3 dice at once.\n",
    "\n",
    "- Payouts:\n",
    "    - \\$3 if all three dice match the chosen number\n",
    "    - \\$2 if exactly two dice match the chosen number\n",
    "    - \\$1 is exactly one of the dice matches the chosen number\n",
    "    - If none of the dice match the player's chosen number, then the House keeps the $1."
   ]
  },
  {
   "cell_type": "code",
   "execution_count": 48,
   "id": "0365c062-4089-4807-a6f2-edd24ada7aa9",
   "metadata": {},
   "outputs": [],
   "source": [
    "def simulate_chuck_a_luck(n_trials, picked_number):\n",
    "    n_dice = 3\n",
    "    simulations = np.random.randint(1, 7, size = (n_trials, n_dice))\n",
    "    return (simulations == picked_number).sum(axis = 1)"
   ]
  },
  {
   "cell_type": "code",
   "execution_count": 69,
   "id": "4616e058-2487-4e06-8142-8817dfa88f46",
   "metadata": {},
   "outputs": [],
   "source": [
    "n_trials = 1_000_000\n",
    "picked_number = 4\n",
    "simulations = simulate_chuck_a_luck(n_trials, picked_number)"
   ]
  },
  {
   "cell_type": "markdown",
   "id": "1cca3715-a829-46bd-8949-fcd8a68b324b",
   "metadata": {},
   "source": [
    "What are your chances of getting an outcome payout of $2?"
   ]
  },
  {
   "cell_type": "code",
   "execution_count": 70,
   "id": "82a72e6c-ab91-4f67-bad3-e4d0b53c0799",
   "metadata": {},
   "outputs": [
    {
     "data": {
      "text/plain": [
       "0.004693"
      ]
     },
     "execution_count": 70,
     "metadata": {},
     "output_type": "execute_result"
    }
   ],
   "source": [
    "(simulations == 3).mean()"
   ]
  },
  {
   "cell_type": "markdown",
   "id": "3049416b-d34f-47f0-bdd3-01e3152ed665",
   "metadata": {},
   "source": [
    "What are your chances of getting an payout of $1?"
   ]
  },
  {
   "cell_type": "code",
   "execution_count": 71,
   "id": "e119852e-90d7-4adb-902b-36c915fbf1be",
   "metadata": {},
   "outputs": [
    {
     "data": {
      "text/plain": [
       "0.069414"
      ]
     },
     "execution_count": 71,
     "metadata": {},
     "output_type": "execute_result"
    }
   ],
   "source": [
    "(simulations == 2).mean()"
   ]
  },
  {
   "cell_type": "markdown",
   "id": "8c2d3beb-c9cc-487f-bf92-40ea075939d2",
   "metadata": {},
   "source": [
    "What are your chances of getting a payout of $0?"
   ]
  },
  {
   "cell_type": "code",
   "execution_count": 72,
   "id": "30586e4c-8e96-4968-a3dd-92c1842b1876",
   "metadata": {},
   "outputs": [
    {
     "data": {
      "text/plain": [
       "0.346635"
      ]
     },
     "execution_count": 72,
     "metadata": {},
     "output_type": "execute_result"
    }
   ],
   "source": [
    "(simulations == 1).mean()"
   ]
  },
  {
   "cell_type": "markdown",
   "id": "1714b4dd-53f4-4fc2-bdb2-6f4f1caf52f2",
   "metadata": {},
   "source": [
    "What are your chances of getting a payout of -$1 where you ante up, but don't win anything?"
   ]
  },
  {
   "cell_type": "code",
   "execution_count": 73,
   "id": "e92c482a-8e79-4652-b28a-e2c258e64a01",
   "metadata": {},
   "outputs": [
    {
     "data": {
      "text/plain": [
       "0.579258"
      ]
     },
     "execution_count": 73,
     "metadata": {},
     "output_type": "execute_result"
    }
   ],
   "source": [
    "(simulations == 0).mean()"
   ]
  },
  {
   "cell_type": "markdown",
   "id": "ac3481d6-dfdf-4613-8d85-f08218367ae0",
   "metadata": {},
   "source": [
    "What is the average cost/gain per game? (think of averaging the total payout calculation across all simulations)"
   ]
  },
  {
   "cell_type": "code",
   "execution_count": 78,
   "id": "2a557b23-de45-4639-a043-9039e2bd75c1",
   "metadata": {},
   "outputs": [
    {
     "data": {
      "text/plain": [
       "-0.5004580000000001"
      ]
     },
     "execution_count": 78,
     "metadata": {},
     "output_type": "execute_result"
    }
   ],
   "source": [
    "cost = 1\n",
    "simulations.mean() - cost"
   ]
  },
  {
   "cell_type": "markdown",
   "id": "e8f9d5b1-7ccf-411e-8041-16c86a3342b3",
   "metadata": {},
   "source": [
    "Chart out a histogram of all the outcomes of those 1,000,000 games"
   ]
  },
  {
   "cell_type": "code",
   "execution_count": 75,
   "id": "6905a713-3a55-427b-8e05-5b0d713822c9",
   "metadata": {},
   "outputs": [
    {
     "data": {
      "image/png": "[encoded data removed]",
      "text/plain": [
       "<Figure size 432x288 with 1 Axes>"
      ]
     },
     "metadata": {
      "needs_background": "light"
     },
     "output_type": "display_data"
    }
   ],
   "source": [
    "sns.histplot(data = simulations)\n",
    "plt.xticks(ticks = [0.0, 1.0, 2.0, 3.0], labels = [0, 1, 2, 3]);"
   ]
  },
  {
   "cell_type": "markdown",
   "id": "3c162811-1960-4d56-a0f8-08dac61afba5",
   "metadata": {},
   "source": [
    "Is this really a fair game of 1/6 + 1/6 + 1/6 odds?"
   ]
  },
  {
   "cell_type": "markdown",
   "id": "28f5683a-be05-4341-beb6-f3402c86359a",
   "metadata": {},
   "source": [
    "This is not a fair game. On any given game the odds are that you are more likely to lose than win."
   ]
  },
  {
   "cell_type": "markdown",
   "id": "a43a3cbb-8414-4a2c-9d96-c8924a200a60",
   "metadata": {},
   "source": [
    "If you play 1,000,000 games in a row, what are your winnings/losses?"
   ]
  },
  {
   "cell_type": "code",
   "execution_count": 79,
   "id": "28bf07d1-3c32-4de3-912c-c5ec38375e2f",
   "metadata": {},
   "outputs": [
    {
     "data": {
      "text/plain": [
       "-500458"
      ]
     },
     "execution_count": 79,
     "metadata": {},
     "output_type": "execute_result"
    }
   ],
   "source": [
    "simulations.sum() - n_trials * cost"
   ]
  }
 ],
 "metadata": {
  "kernelspec": {
   "display_name": "Python 3 (ipykernel)",
   "language": "python",
   "name": "python3"
  },
  "language_info": {
   "codemirror_mode": {
    "name": "ipython",
    "version": 3
   },
   "file_extension": ".py",
   "mimetype": "text/x-python",
   "name": "python",
   "nbconvert_exporter": "python",
   "pygments_lexer": "ipython3",
   "version": "3.9.7"
  }
 },
 "nbformat": 4,
 "nbformat_minor": 5
}
